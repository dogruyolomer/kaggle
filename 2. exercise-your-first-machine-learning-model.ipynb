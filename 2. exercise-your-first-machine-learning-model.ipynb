{
 "cells": [
  {
   "cell_type": "markdown",
   "id": "4c156de9",
   "metadata": {
    "papermill": {
     "duration": 0.006938,
     "end_time": "2023-09-04T13:59:49.856173",
     "exception": false,
     "start_time": "2023-09-04T13:59:49.849235",
     "status": "completed"
    },
    "tags": []
   },
   "source": [
    "**This notebook is an exercise in the [Introduction to Machine Learning](https://www.kaggle.com/learn/intro-to-machine-learning) course.  You can reference the tutorial at [this link](https://www.kaggle.com/dansbecker/your-first-machine-learning-model).**\n",
    "\n",
    "---\n"
   ]
  },
  {
   "cell_type": "markdown",
   "id": "715d603a",
   "metadata": {
    "papermill": {
     "duration": 0.006159,
     "end_time": "2023-09-04T13:59:49.868692",
     "exception": false,
     "start_time": "2023-09-04T13:59:49.862533",
     "status": "completed"
    },
    "tags": []
   },
   "source": [
    "## Recap\n",
    "So far, you have loaded your data and reviewed it with the following code. Run this cell to set up your coding environment where the previous step left off."
   ]
  },
  {
   "cell_type": "code",
   "execution_count": 1,
   "id": "5007010e",
   "metadata": {
    "execution": {
     "iopub.execute_input": "2023-09-04T13:59:49.883005Z",
     "iopub.status.busy": "2023-09-04T13:59:49.882558Z",
     "iopub.status.idle": "2023-09-04T13:59:51.979792Z",
     "shell.execute_reply": "2023-09-04T13:59:51.978583Z"
    },
    "papermill": {
     "duration": 2.107032,
     "end_time": "2023-09-04T13:59:51.982010",
     "exception": false,
     "start_time": "2023-09-04T13:59:49.874978",
     "status": "completed"
    },
    "tags": []
   },
   "outputs": [
    {
     "name": "stdout",
     "output_type": "stream",
     "text": [
      "Setup Complete\n"
     ]
    }
   ],
   "source": [
    "# Code you have previously used to load data\n",
    "import pandas as pd\n",
    "\n",
    "# Path of the file to read\n",
    "iowa_file_path = '../input/home-data-for-ml-course/train.csv'\n",
    "\n",
    "home_data = pd.read_csv(iowa_file_path)\n",
    "\n",
    "# Set up code checking\n",
    "from learntools.core import binder\n",
    "binder.bind(globals())\n",
    "from learntools.machine_learning.ex3 import *\n",
    "\n",
    "print(\"Setup Complete\")"
   ]
  },
  {
   "cell_type": "markdown",
   "id": "989a2bbc",
   "metadata": {
    "papermill": {
     "duration": 0.005973,
     "end_time": "2023-09-04T13:59:51.994244",
     "exception": false,
     "start_time": "2023-09-04T13:59:51.988271",
     "status": "completed"
    },
    "tags": []
   },
   "source": [
    "# Exercises\n",
    "\n",
    "## Step 1: Specify Prediction Target\n",
    "Select the target variable, which corresponds to the sales price. Save this to a new variable called `y`. You'll need to print a list of the columns to find the name of the column you need.\n"
   ]
  },
  {
   "cell_type": "code",
   "execution_count": 2,
   "id": "62eafc28",
   "metadata": {
    "execution": {
     "iopub.execute_input": "2023-09-04T13:59:52.008226Z",
     "iopub.status.busy": "2023-09-04T13:59:52.007836Z",
     "iopub.status.idle": "2023-09-04T13:59:52.016133Z",
     "shell.execute_reply": "2023-09-04T13:59:52.015062Z"
    },
    "papermill": {
     "duration": 0.017584,
     "end_time": "2023-09-04T13:59:52.018210",
     "exception": false,
     "start_time": "2023-09-04T13:59:52.000626",
     "status": "completed"
    },
    "tags": []
   },
   "outputs": [
    {
     "data": {
      "text/plain": [
       "Index(['Id', 'MSSubClass', 'MSZoning', 'LotFrontage', 'LotArea', 'Street',\n",
       "       'Alley', 'LotShape', 'LandContour', 'Utilities', 'LotConfig',\n",
       "       'LandSlope', 'Neighborhood', 'Condition1', 'Condition2', 'BldgType',\n",
       "       'HouseStyle', 'OverallQual', 'OverallCond', 'YearBuilt', 'YearRemodAdd',\n",
       "       'RoofStyle', 'RoofMatl', 'Exterior1st', 'Exterior2nd', 'MasVnrType',\n",
       "       'MasVnrArea', 'ExterQual', 'ExterCond', 'Foundation', 'BsmtQual',\n",
       "       'BsmtCond', 'BsmtExposure', 'BsmtFinType1', 'BsmtFinSF1',\n",
       "       'BsmtFinType2', 'BsmtFinSF2', 'BsmtUnfSF', 'TotalBsmtSF', 'Heating',\n",
       "       'HeatingQC', 'CentralAir', 'Electrical', '1stFlrSF', '2ndFlrSF',\n",
       "       'LowQualFinSF', 'GrLivArea', 'BsmtFullBath', 'BsmtHalfBath', 'FullBath',\n",
       "       'HalfBath', 'BedroomAbvGr', 'KitchenAbvGr', 'KitchenQual',\n",
       "       'TotRmsAbvGrd', 'Functional', 'Fireplaces', 'FireplaceQu', 'GarageType',\n",
       "       'GarageYrBlt', 'GarageFinish', 'GarageCars', 'GarageArea', 'GarageQual',\n",
       "       'GarageCond', 'PavedDrive', 'WoodDeckSF', 'OpenPorchSF',\n",
       "       'EnclosedPorch', '3SsnPorch', 'ScreenPorch', 'PoolArea', 'PoolQC',\n",
       "       'Fence', 'MiscFeature', 'MiscVal', 'MoSold', 'YrSold', 'SaleType',\n",
       "       'SaleCondition', 'SalePrice'],\n",
       "      dtype='object')"
      ]
     },
     "execution_count": 2,
     "metadata": {},
     "output_type": "execute_result"
    }
   ],
   "source": [
    "# print the list of columns in the dataset to find the name of the prediction target\n",
    "home_data.columns"
   ]
  },
  {
   "cell_type": "code",
   "execution_count": 3,
   "id": "632e2e4e",
   "metadata": {
    "execution": {
     "iopub.execute_input": "2023-09-04T13:59:52.032221Z",
     "iopub.status.busy": "2023-09-04T13:59:52.031806Z",
     "iopub.status.idle": "2023-09-04T13:59:52.045682Z",
     "shell.execute_reply": "2023-09-04T13:59:52.044817Z"
    },
    "papermill": {
     "duration": 0.022956,
     "end_time": "2023-09-04T13:59:52.047558",
     "exception": false,
     "start_time": "2023-09-04T13:59:52.024602",
     "status": "completed"
    },
    "tags": []
   },
   "outputs": [
    {
     "data": {
      "application/javascript": [
       "parent.postMessage({\"jupyterEvent\": \"custom.exercise_interaction\", \"data\": {\"outcomeType\": 1, \"valueTowardsCompletion\": 0.25, \"interactionType\": 1, \"questionType\": 2, \"questionId\": \"1_SetTarget\", \"learnToolsVersion\": \"0.3.4\", \"failureMessage\": \"\", \"exceptionClass\": \"\", \"trace\": \"\"}}, \"*\")"
      ],
      "text/plain": [
       "<IPython.core.display.Javascript object>"
      ]
     },
     "metadata": {},
     "output_type": "display_data"
    },
    {
     "data": {
      "text/markdown": [
       "<span style=\"color:#33cc33\">Correct</span>"
      ],
      "text/plain": [
       "Correct"
      ]
     },
     "metadata": {},
     "output_type": "display_data"
    }
   ],
   "source": [
    "y = home_data.SalePrice\n",
    "\n",
    "# Check your answer\n",
    "step_1.check()"
   ]
  },
  {
   "cell_type": "code",
   "execution_count": 4,
   "id": "6e38eb6a",
   "metadata": {
    "execution": {
     "iopub.execute_input": "2023-09-04T13:59:52.062529Z",
     "iopub.status.busy": "2023-09-04T13:59:52.061702Z",
     "iopub.status.idle": "2023-09-04T13:59:52.066655Z",
     "shell.execute_reply": "2023-09-04T13:59:52.065658Z"
    },
    "papermill": {
     "duration": 0.014522,
     "end_time": "2023-09-04T13:59:52.068629",
     "exception": false,
     "start_time": "2023-09-04T13:59:52.054107",
     "status": "completed"
    },
    "tags": []
   },
   "outputs": [],
   "source": [
    "# The lines below will show you a hint or the solution.\n",
    "# step_1.hint() \n",
    "# step_1.solution()"
   ]
  },
  {
   "cell_type": "markdown",
   "id": "7d6f77d0",
   "metadata": {
    "papermill": {
     "duration": 0.006494,
     "end_time": "2023-09-04T13:59:52.081733",
     "exception": false,
     "start_time": "2023-09-04T13:59:52.075239",
     "status": "completed"
    },
    "tags": []
   },
   "source": [
    "## Step 2: Create X\n",
    "Now you will create a DataFrame called `X` holding the predictive features.\n",
    "\n",
    "Since you want only some columns from the original data, you'll first create a list with the names of the columns you want in `X`.\n",
    "\n",
    "You'll use just the following columns in the list (you can copy and paste the whole list to save some typing, though you'll still need to add quotes):\n",
    "  * LotArea\n",
    "  * YearBuilt\n",
    "  * 1stFlrSF\n",
    "  * 2ndFlrSF\n",
    "  * FullBath\n",
    "  * BedroomAbvGr\n",
    "  * TotRmsAbvGrd\n",
    "\n",
    "After you've created that list of features, use it to create the DataFrame that you'll use to fit the model."
   ]
  },
  {
   "cell_type": "code",
   "execution_count": 5,
   "id": "5a6df180",
   "metadata": {
    "execution": {
     "iopub.execute_input": "2023-09-04T13:59:52.096913Z",
     "iopub.status.busy": "2023-09-04T13:59:52.096258Z",
     "iopub.status.idle": "2023-09-04T13:59:52.113611Z",
     "shell.execute_reply": "2023-09-04T13:59:52.112627Z"
    },
    "papermill": {
     "duration": 0.027281,
     "end_time": "2023-09-04T13:59:52.115590",
     "exception": false,
     "start_time": "2023-09-04T13:59:52.088309",
     "status": "completed"
    },
    "tags": []
   },
   "outputs": [
    {
     "data": {
      "application/javascript": [
       "parent.postMessage({\"jupyterEvent\": \"custom.exercise_interaction\", \"data\": {\"outcomeType\": 1, \"valueTowardsCompletion\": 0.25, \"interactionType\": 1, \"questionType\": 2, \"questionId\": \"2_SelectPredictionData\", \"learnToolsVersion\": \"0.3.4\", \"failureMessage\": \"\", \"exceptionClass\": \"\", \"trace\": \"\"}}, \"*\")"
      ],
      "text/plain": [
       "<IPython.core.display.Javascript object>"
      ]
     },
     "metadata": {},
     "output_type": "display_data"
    },
    {
     "data": {
      "text/markdown": [
       "<span style=\"color:#33cc33\">Correct</span>"
      ],
      "text/plain": [
       "Correct"
      ]
     },
     "metadata": {},
     "output_type": "display_data"
    }
   ],
   "source": [
    "# Create the list of features below\n",
    "feature_names = ['LotArea', 'YearBuilt', '1stFlrSF', '2ndFlrSF', 'FullBath', 'BedroomAbvGr','TotRmsAbvGrd']\n",
    "\n",
    "# Select data corresponding to features in feature_names\n",
    "X = home_data[feature_names]\n",
    "\n",
    "# Check your answer\n",
    "step_2.check()"
   ]
  },
  {
   "cell_type": "code",
   "execution_count": 6,
   "id": "3b5019a6",
   "metadata": {
    "execution": {
     "iopub.execute_input": "2023-09-04T13:59:52.130795Z",
     "iopub.status.busy": "2023-09-04T13:59:52.130412Z",
     "iopub.status.idle": "2023-09-04T13:59:52.134704Z",
     "shell.execute_reply": "2023-09-04T13:59:52.133659Z"
    },
    "papermill": {
     "duration": 0.01423,
     "end_time": "2023-09-04T13:59:52.136714",
     "exception": false,
     "start_time": "2023-09-04T13:59:52.122484",
     "status": "completed"
    },
    "tags": []
   },
   "outputs": [],
   "source": [
    "# step_2.hint()\n",
    "# step_2.solution()"
   ]
  },
  {
   "cell_type": "markdown",
   "id": "66bc8588",
   "metadata": {
    "papermill": {
     "duration": 0.006739,
     "end_time": "2023-09-04T13:59:52.150347",
     "exception": false,
     "start_time": "2023-09-04T13:59:52.143608",
     "status": "completed"
    },
    "tags": []
   },
   "source": [
    "## Review Data\n",
    "Before building a model, take a quick look at **X** to verify it looks sensible"
   ]
  },
  {
   "cell_type": "code",
   "execution_count": 7,
   "id": "723d821a",
   "metadata": {
    "execution": {
     "iopub.execute_input": "2023-09-04T13:59:52.165403Z",
     "iopub.status.busy": "2023-09-04T13:59:52.164980Z",
     "iopub.status.idle": "2023-09-04T13:59:52.197359Z",
     "shell.execute_reply": "2023-09-04T13:59:52.196266Z"
    },
    "papermill": {
     "duration": 0.042445,
     "end_time": "2023-09-04T13:59:52.199511",
     "exception": false,
     "start_time": "2023-09-04T13:59:52.157066",
     "status": "completed"
    },
    "tags": []
   },
   "outputs": [
    {
     "name": "stdout",
     "output_type": "stream",
     "text": [
      "             LotArea    YearBuilt     1stFlrSF     2ndFlrSF     FullBath  \\\n",
      "count    1460.000000  1460.000000  1460.000000  1460.000000  1460.000000   \n",
      "mean    10516.828082  1971.267808  1162.626712   346.992466     1.565068   \n",
      "std      9981.264932    30.202904   386.587738   436.528436     0.550916   \n",
      "min      1300.000000  1872.000000   334.000000     0.000000     0.000000   \n",
      "25%      7553.500000  1954.000000   882.000000     0.000000     1.000000   \n",
      "50%      9478.500000  1973.000000  1087.000000     0.000000     2.000000   \n",
      "75%     11601.500000  2000.000000  1391.250000   728.000000     2.000000   \n",
      "max    215245.000000  2010.000000  4692.000000  2065.000000     3.000000   \n",
      "\n",
      "       BedroomAbvGr  TotRmsAbvGrd  \n",
      "count   1460.000000   1460.000000  \n",
      "mean       2.866438      6.517808  \n",
      "std        0.815778      1.625393  \n",
      "min        0.000000      2.000000  \n",
      "25%        2.000000      5.000000  \n",
      "50%        3.000000      6.000000  \n",
      "75%        3.000000      7.000000  \n",
      "max        8.000000     14.000000  \n",
      "   LotArea  YearBuilt  1stFlrSF  2ndFlrSF  FullBath  BedroomAbvGr  \\\n",
      "0     8450       2003       856       854         2             3   \n",
      "1     9600       1976      1262         0         2             3   \n",
      "2    11250       2001       920       866         2             3   \n",
      "3     9550       1915       961       756         1             3   \n",
      "4    14260       2000      1145      1053         2             4   \n",
      "\n",
      "   TotRmsAbvGrd  \n",
      "0             8  \n",
      "1             6  \n",
      "2             6  \n",
      "3             7  \n",
      "4             9  \n"
     ]
    }
   ],
   "source": [
    "# Review data\n",
    "# print description or statistics from X\n",
    "print(X.describe())\n",
    "\n",
    "# print the top few lines\n",
    "print(X.head())"
   ]
  },
  {
   "cell_type": "markdown",
   "id": "1df4f5c9",
   "metadata": {
    "papermill": {
     "duration": 0.00702,
     "end_time": "2023-09-04T13:59:52.213517",
     "exception": false,
     "start_time": "2023-09-04T13:59:52.206497",
     "status": "completed"
    },
    "tags": []
   },
   "source": [
    "## Step 3: Specify and Fit Model\n",
    "Create a `DecisionTreeRegressor` and save it iowa_model. Ensure you've done the relevant import from sklearn to run this command.\n",
    "\n",
    "Then fit the model you just created using the data in `X` and `y` that you saved above."
   ]
  },
  {
   "cell_type": "code",
   "execution_count": 8,
   "id": "f1948b94",
   "metadata": {
    "execution": {
     "iopub.execute_input": "2023-09-04T13:59:52.229306Z",
     "iopub.status.busy": "2023-09-04T13:59:52.228497Z",
     "iopub.status.idle": "2023-09-04T13:59:52.247554Z",
     "shell.execute_reply": "2023-09-04T13:59:52.246502Z"
    },
    "papermill": {
     "duration": 0.029066,
     "end_time": "2023-09-04T13:59:52.249521",
     "exception": false,
     "start_time": "2023-09-04T13:59:52.220455",
     "status": "completed"
    },
    "tags": []
   },
   "outputs": [
    {
     "data": {
      "application/javascript": [
       "parent.postMessage({\"jupyterEvent\": \"custom.exercise_interaction\", \"data\": {\"outcomeType\": 1, \"valueTowardsCompletion\": 0.25, \"interactionType\": 1, \"questionType\": 2, \"questionId\": \"3_CreateModel\", \"learnToolsVersion\": \"0.3.4\", \"failureMessage\": \"\", \"exceptionClass\": \"\", \"trace\": \"\"}}, \"*\")"
      ],
      "text/plain": [
       "<IPython.core.display.Javascript object>"
      ]
     },
     "metadata": {},
     "output_type": "display_data"
    },
    {
     "data": {
      "text/markdown": [
       "<span style=\"color:#33cc33\">Correct</span>"
      ],
      "text/plain": [
       "Correct"
      ]
     },
     "metadata": {},
     "output_type": "display_data"
    }
   ],
   "source": [
    "from sklearn.tree import DecisionTreeRegressor\n",
    "\n",
    "#specify the model. \n",
    "#For model reproducibility, set a numeric value for random_state when specifying the model\n",
    "iowa_model = DecisionTreeRegressor(random_state=1)\n",
    "\n",
    "# Fit the model\n",
    "iowa_model.fit(X,y)\n",
    "\n",
    "# Check your answer\n",
    "step_3.check()"
   ]
  },
  {
   "cell_type": "code",
   "execution_count": 9,
   "id": "7aa10587",
   "metadata": {
    "collapsed": true,
    "execution": {
     "iopub.execute_input": "2023-09-04T13:59:52.265473Z",
     "iopub.status.busy": "2023-09-04T13:59:52.264722Z",
     "iopub.status.idle": "2023-09-04T13:59:52.269405Z",
     "shell.execute_reply": "2023-09-04T13:59:52.268513Z"
    },
    "jupyter": {
     "outputs_hidden": true
    },
    "papermill": {
     "duration": 0.014789,
     "end_time": "2023-09-04T13:59:52.271351",
     "exception": false,
     "start_time": "2023-09-04T13:59:52.256562",
     "status": "completed"
    },
    "tags": []
   },
   "outputs": [],
   "source": [
    "# step_3.hint()\n",
    "# step_3.solution()"
   ]
  },
  {
   "cell_type": "markdown",
   "id": "7c2d8f0f",
   "metadata": {
    "papermill": {
     "duration": 0.006861,
     "end_time": "2023-09-04T13:59:52.285475",
     "exception": false,
     "start_time": "2023-09-04T13:59:52.278614",
     "status": "completed"
    },
    "tags": []
   },
   "source": [
    "## Step 4: Make Predictions\n",
    "Make predictions with the model's `predict` command using `X` as the data. Save the results to a variable called `predictions`."
   ]
  },
  {
   "cell_type": "code",
   "execution_count": 10,
   "id": "0ad1dedc",
   "metadata": {
    "execution": {
     "iopub.execute_input": "2023-09-04T13:59:52.301424Z",
     "iopub.status.busy": "2023-09-04T13:59:52.300702Z",
     "iopub.status.idle": "2023-09-04T13:59:52.313698Z",
     "shell.execute_reply": "2023-09-04T13:59:52.312764Z"
    },
    "papermill": {
     "duration": 0.023195,
     "end_time": "2023-09-04T13:59:52.315672",
     "exception": false,
     "start_time": "2023-09-04T13:59:52.292477",
     "status": "completed"
    },
    "tags": []
   },
   "outputs": [
    {
     "name": "stdout",
     "output_type": "stream",
     "text": [
      "[208500. 181500. 223500. ... 266500. 142125. 147500.]\n"
     ]
    },
    {
     "data": {
      "application/javascript": [
       "parent.postMessage({\"jupyterEvent\": \"custom.exercise_interaction\", \"data\": {\"outcomeType\": 1, \"valueTowardsCompletion\": 0.25, \"interactionType\": 1, \"questionType\": 2, \"questionId\": \"4_MakePredictions\", \"learnToolsVersion\": \"0.3.4\", \"failureMessage\": \"\", \"exceptionClass\": \"\", \"trace\": \"\"}}, \"*\")"
      ],
      "text/plain": [
       "<IPython.core.display.Javascript object>"
      ]
     },
     "metadata": {},
     "output_type": "display_data"
    },
    {
     "data": {
      "text/markdown": [
       "<span style=\"color:#33cc33\">Correct</span>"
      ],
      "text/plain": [
       "Correct"
      ]
     },
     "metadata": {},
     "output_type": "display_data"
    }
   ],
   "source": [
    "predictions = iowa_model.predict(X)\n",
    "print(predictions)\n",
    "\n",
    "# Check your answer\n",
    "step_4.check()"
   ]
  },
  {
   "cell_type": "code",
   "execution_count": 11,
   "id": "1135f7f1",
   "metadata": {
    "execution": {
     "iopub.execute_input": "2023-09-04T13:59:52.332101Z",
     "iopub.status.busy": "2023-09-04T13:59:52.331761Z",
     "iopub.status.idle": "2023-09-04T13:59:52.335461Z",
     "shell.execute_reply": "2023-09-04T13:59:52.334469Z"
    },
    "papermill": {
     "duration": 0.014233,
     "end_time": "2023-09-04T13:59:52.337480",
     "exception": false,
     "start_time": "2023-09-04T13:59:52.323247",
     "status": "completed"
    },
    "tags": []
   },
   "outputs": [],
   "source": [
    "# step_4.hint()\n",
    "# step_4.solution()"
   ]
  },
  {
   "cell_type": "markdown",
   "id": "eaf68b74",
   "metadata": {
    "papermill": {
     "duration": 0.007135,
     "end_time": "2023-09-04T13:59:52.352075",
     "exception": false,
     "start_time": "2023-09-04T13:59:52.344940",
     "status": "completed"
    },
    "tags": []
   },
   "source": [
    "## Think About Your Results\n",
    "\n",
    "Use the `head` method to compare the top few predictions to the actual home values (in `y`) for those same homes. Anything surprising?\n"
   ]
  },
  {
   "cell_type": "code",
   "execution_count": 12,
   "id": "49b2e5ad",
   "metadata": {
    "execution": {
     "iopub.execute_input": "2023-09-04T13:59:52.368243Z",
     "iopub.status.busy": "2023-09-04T13:59:52.367856Z",
     "iopub.status.idle": "2023-09-04T13:59:52.374919Z",
     "shell.execute_reply": "2023-09-04T13:59:52.374216Z"
    },
    "papermill": {
     "duration": 0.017135,
     "end_time": "2023-09-04T13:59:52.376688",
     "exception": false,
     "start_time": "2023-09-04T13:59:52.359553",
     "status": "completed"
    },
    "tags": []
   },
   "outputs": [
    {
     "data": {
      "text/plain": [
       "<bound method NDFrame.head of 0       208500\n",
       "1       181500\n",
       "2       223500\n",
       "3       140000\n",
       "4       250000\n",
       "         ...  \n",
       "1455    175000\n",
       "1456    210000\n",
       "1457    266500\n",
       "1458    142125\n",
       "1459    147500\n",
       "Name: SalePrice, Length: 1460, dtype: int64>"
      ]
     },
     "execution_count": 12,
     "metadata": {},
     "output_type": "execute_result"
    }
   ],
   "source": [
    "# You can write code in this cell\n",
    "y.head"
   ]
  },
  {
   "cell_type": "markdown",
   "id": "577a1c9e",
   "metadata": {
    "papermill": {
     "duration": 0.007323,
     "end_time": "2023-09-04T13:59:52.391622",
     "exception": false,
     "start_time": "2023-09-04T13:59:52.384299",
     "status": "completed"
    },
    "tags": []
   },
   "source": [
    "It's natural to ask how accurate the model's predictions will be and how you can improve that. That will be you're next step.\n",
    "\n",
    "# Keep Going\n",
    "\n",
    "You are ready for **[Model Validation](https://www.kaggle.com/dansbecker/model-validation).**\n"
   ]
  },
  {
   "cell_type": "markdown",
   "id": "da61c97e",
   "metadata": {
    "papermill": {
     "duration": 0.007261,
     "end_time": "2023-09-04T13:59:52.406716",
     "exception": false,
     "start_time": "2023-09-04T13:59:52.399455",
     "status": "completed"
    },
    "tags": []
   },
   "source": [
    "---\n",
    "\n",
    "\n",
    "\n",
    "\n",
    "*Have questions or comments? Visit the [course discussion forum](https://www.kaggle.com/learn/intro-to-machine-learning/discussion) to chat with other learners.*"
   ]
  }
 ],
 "kernelspec": {
  "display_name": "Python 3",
  "language": "python",
  "name": "python3"
 },
 "language_info": {
  "codemirror_mode": {
   "name": "ipython",
   "version": 3
  },
  "file_extension": ".py",
  "mimetype": "text/x-python",
  "name": "python",
  "nbconvert_exporter": "python",
  "pygments_lexer": "ipython3",
  "version": "3.6.4"
 },
 "metadata": {
  "kernelspec": {
   "display_name": "Python 3",
   "language": "python",
   "name": "python3"
  },
  "language_info": {
   "codemirror_mode": {
    "name": "ipython",
    "version": 3
   },
   "file_extension": ".py",
   "mimetype": "text/x-python",
   "name": "python",
   "nbconvert_exporter": "python",
   "pygments_lexer": "ipython3",
   "version": "3.10.12"
  },
  "papermill": {
   "default_parameters": {},
   "duration": 6.351672,
   "end_time": "2023-09-04T13:59:52.935033",
   "environment_variables": {},
   "exception": null,
   "input_path": "__notebook__.ipynb",
   "output_path": "__notebook__.ipynb",
   "parameters": {},
   "start_time": "2023-09-04T13:59:46.583361",
   "version": "2.4.0"
  }
 },
 "nbformat": 4,
 "nbformat_minor": 5
}
