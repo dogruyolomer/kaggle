{
 "cells": [
  {
   "cell_type": "markdown",
   "id": "8a037ddd",
   "metadata": {
    "papermill": {
     "duration": 0.006323,
     "end_time": "2023-09-01T13:03:32.540342",
     "exception": false,
     "start_time": "2023-09-01T13:03:32.534019",
     "status": "completed"
    },
    "tags": []
   },
   "source": [
    "**This notebook is an exercise in the [Python](https://www.kaggle.com/learn/python) course.  You can reference the tutorial at [this link](https://www.kaggle.com/colinmorris/functions-and-getting-help).**\n",
    "\n",
    "---\n"
   ]
  },
  {
   "cell_type": "markdown",
   "id": "ea3ee9e8",
   "metadata": {
    "papermill": {
     "duration": 0.00531,
     "end_time": "2023-09-01T13:03:32.552042",
     "exception": false,
     "start_time": "2023-09-01T13:03:32.546732",
     "status": "completed"
    },
    "tags": []
   },
   "source": [
    "Functions are powerful. Try writing some yourself.\n",
    "\n",
    "As before, don't forget to run the setup code below before jumping into question 1."
   ]
  },
  {
   "cell_type": "code",
   "execution_count": 1,
   "id": "21a04486",
   "metadata": {
    "_kg_hide-input": true,
    "_kg_hide-output": true,
    "execution": {
     "iopub.execute_input": "2023-09-01T13:03:32.567892Z",
     "iopub.status.busy": "2023-09-01T13:03:32.567110Z",
     "iopub.status.idle": "2023-09-01T13:03:32.985323Z",
     "shell.execute_reply": "2023-09-01T13:03:32.983198Z"
    },
    "papermill": {
     "duration": 0.430929,
     "end_time": "2023-09-01T13:03:32.988328",
     "exception": false,
     "start_time": "2023-09-01T13:03:32.557399",
     "status": "completed"
    },
    "tags": []
   },
   "outputs": [
    {
     "name": "stdout",
     "output_type": "stream",
     "text": [
      "Setup complete.\n"
     ]
    }
   ],
   "source": [
    "# SETUP. You don't need to worry for now about what this code does or how it works.\n",
    "from learntools.core import binder; binder.bind(globals())\n",
    "from learntools.python.ex2 import *\n",
    "print('Setup complete.')"
   ]
  },
  {
   "cell_type": "markdown",
   "id": "0d25ef37",
   "metadata": {
    "papermill": {
     "duration": 0.005341,
     "end_time": "2023-09-01T13:03:33.000675",
     "exception": false,
     "start_time": "2023-09-01T13:03:32.995334",
     "status": "completed"
    },
    "tags": []
   },
   "source": [
    "# 1.\n",
    "\n",
    "Complete the body of the following function according to its docstring.\n",
    "\n",
    "HINT: Python has a built-in function `round`."
   ]
  },
  {
   "cell_type": "code",
   "execution_count": 2,
   "id": "399e686b",
   "metadata": {
    "execution": {
     "iopub.execute_input": "2023-09-01T13:03:33.016933Z",
     "iopub.status.busy": "2023-09-01T13:03:33.016183Z",
     "iopub.status.idle": "2023-09-01T13:03:33.027671Z",
     "shell.execute_reply": "2023-09-01T13:03:33.025878Z"
    },
    "papermill": {
     "duration": 0.021951,
     "end_time": "2023-09-01T13:03:33.031174",
     "exception": false,
     "start_time": "2023-09-01T13:03:33.009223",
     "status": "completed"
    },
    "tags": []
   },
   "outputs": [
    {
     "data": {
      "application/javascript": [
       "parent.postMessage({\"jupyterEvent\": \"custom.exercise_interaction\", \"data\": {\"outcomeType\": 1, \"valueTowardsCompletion\": 0.16666666666666666, \"interactionType\": 1, \"questionType\": 2, \"questionId\": \"1_RoundFunctionProblem\", \"learnToolsVersion\": \"0.3.4\", \"failureMessage\": \"\", \"exceptionClass\": \"\", \"trace\": \"\"}}, \"*\")"
      ],
      "text/plain": [
       "<IPython.core.display.Javascript object>"
      ]
     },
     "metadata": {},
     "output_type": "display_data"
    },
    {
     "data": {
      "text/markdown": [
       "<span style=\"color:#33cc33\">Correct</span>"
      ],
      "text/plain": [
       "Correct"
      ]
     },
     "metadata": {},
     "output_type": "display_data"
    }
   ],
   "source": [
    "def round_to_two_places(num):\n",
    "    \"\"\"Return the given number rounded to two decimal places. \n",
    "    \n",
    "    >>> round_to_two_places(3.14159)\n",
    "    3.14\n",
    "    \"\"\"\n",
    "    num = round(num,2)\n",
    "    return num\n",
    "    # Replace this body with your own code.\n",
    "    # (\"pass\" is a keyword that does literally nothing. We used it as a placeholder\n",
    "    # because after we begin a code block, Python requires at least one line of code)\n",
    "    pass\n",
    "\n",
    "# Check your answer\n",
    "q1.check()"
   ]
  },
  {
   "cell_type": "code",
   "execution_count": 3,
   "id": "34251c72",
   "metadata": {
    "execution": {
     "iopub.execute_input": "2023-09-01T13:03:33.044998Z",
     "iopub.status.busy": "2023-09-01T13:03:33.044596Z",
     "iopub.status.idle": "2023-09-01T13:03:33.050005Z",
     "shell.execute_reply": "2023-09-01T13:03:33.048285Z"
    },
    "papermill": {
     "duration": 0.015084,
     "end_time": "2023-09-01T13:03:33.052563",
     "exception": false,
     "start_time": "2023-09-01T13:03:33.037479",
     "status": "completed"
    },
    "tags": []
   },
   "outputs": [],
   "source": [
    "# Uncomment the following for a hint\n",
    "#q1.hint()\n",
    "# Or uncomment the following to peek at the solution\n",
    "#q1.solution()"
   ]
  },
  {
   "cell_type": "markdown",
   "id": "3ecd87c3",
   "metadata": {
    "papermill": {
     "duration": 0.00551,
     "end_time": "2023-09-01T13:03:33.064534",
     "exception": false,
     "start_time": "2023-09-01T13:03:33.059024",
     "status": "completed"
    },
    "tags": []
   },
   "source": [
    "# 2.\n",
    "The help for `round` says that `ndigits` (the second argument) may be negative.\n",
    "What do you think will happen when it is? Try some examples in the following cell."
   ]
  },
  {
   "cell_type": "code",
   "execution_count": 4,
   "id": "355eef8f",
   "metadata": {
    "execution": {
     "iopub.execute_input": "2023-09-01T13:03:33.077286Z",
     "iopub.status.busy": "2023-09-01T13:03:33.076934Z",
     "iopub.status.idle": "2023-09-01T13:03:33.082186Z",
     "shell.execute_reply": "2023-09-01T13:03:33.080461Z"
    },
    "papermill": {
     "duration": 0.014743,
     "end_time": "2023-09-01T13:03:33.084807",
     "exception": false,
     "start_time": "2023-09-01T13:03:33.070064",
     "status": "completed"
    },
    "tags": []
   },
   "outputs": [],
   "source": [
    "# Put your test code here"
   ]
  },
  {
   "cell_type": "markdown",
   "id": "a35acf92",
   "metadata": {
    "papermill": {
     "duration": 0.005352,
     "end_time": "2023-09-01T13:03:33.096091",
     "exception": false,
     "start_time": "2023-09-01T13:03:33.090739",
     "status": "completed"
    },
    "tags": []
   },
   "source": [
    "Can you think of a case where this would be useful?  Once you're ready, run the code cell below to see the answer and to receive credit for completing the problem."
   ]
  },
  {
   "cell_type": "code",
   "execution_count": 5,
   "id": "f2b64476",
   "metadata": {
    "execution": {
     "iopub.execute_input": "2023-09-01T13:03:33.109826Z",
     "iopub.status.busy": "2023-09-01T13:03:33.109441Z",
     "iopub.status.idle": "2023-09-01T13:03:33.118092Z",
     "shell.execute_reply": "2023-09-01T13:03:33.116505Z"
    },
    "papermill": {
     "duration": 0.018925,
     "end_time": "2023-09-01T13:03:33.121075",
     "exception": false,
     "start_time": "2023-09-01T13:03:33.102150",
     "status": "completed"
    },
    "tags": []
   },
   "outputs": [
    {
     "data": {
      "application/javascript": [
       "parent.postMessage({\"jupyterEvent\": \"custom.exercise_interaction\", \"data\": {\"interactionType\": 3, \"questionType\": 4, \"questionId\": \"2_RoundNdigitsProblem\", \"learnToolsVersion\": \"0.3.4\", \"valueTowardsCompletion\": 0.0, \"failureMessage\": \"\", \"exceptionClass\": \"\", \"trace\": \"\", \"outcomeType\": 4}}, \"*\")"
      ],
      "text/plain": [
       "<IPython.core.display.Javascript object>"
      ]
     },
     "metadata": {},
     "output_type": "display_data"
    },
    {
     "data": {
      "text/markdown": [
       "<span style=\"color:#33cc99\">Solution:</span> As you've seen, `ndigits=-1` rounds to the nearest 10, `ndigits=-2` rounds to the nearest 100 and so on. Where might this be useful? Suppose we're dealing with large numbers:\n",
       "\n",
       "> The area of Finland is 338,424 km²  \n",
       "> The area of Greenland is 2,166,086 km²\n",
       "\n",
       "We probably don't care whether it's really 338,424, or 338,425, or 338,177. All those digits of accuracy are just distracting. We can chop them off by calling `round()` with `ndigits=-3`:\n",
       "\n",
       "> The area of Finland is 338,000 km²  \n",
       "> The area of Greenland is 2,166,000 km²\n",
       "\n",
       "(We'll talk about how we would get the commas later when we talk about string formatting :))\n"
      ],
      "text/plain": [
       "Solution: As you've seen, `ndigits=-1` rounds to the nearest 10, `ndigits=-2` rounds to the nearest 100 and so on. Where might this be useful? Suppose we're dealing with large numbers:\n",
       "\n",
       "> The area of Finland is 338,424 km²  \n",
       "> The area of Greenland is 2,166,086 km²\n",
       "\n",
       "We probably don't care whether it's really 338,424, or 338,425, or 338,177. All those digits of accuracy are just distracting. We can chop them off by calling `round()` with `ndigits=-3`:\n",
       "\n",
       "> The area of Finland is 338,000 km²  \n",
       "> The area of Greenland is 2,166,000 km²\n",
       "\n",
       "(We'll talk about how we would get the commas later when we talk about string formatting :))"
      ]
     },
     "metadata": {},
     "output_type": "display_data"
    }
   ],
   "source": [
    "# Check your answer (Run this code cell to receive credit!)\n",
    "q2.solution()"
   ]
  },
  {
   "cell_type": "markdown",
   "id": "3ef94a33",
   "metadata": {
    "papermill": {
     "duration": 0.00582,
     "end_time": "2023-09-01T13:03:33.133212",
     "exception": false,
     "start_time": "2023-09-01T13:03:33.127392",
     "status": "completed"
    },
    "tags": []
   },
   "source": [
    "# 3.\n",
    "\n",
    "In the previous exercise, the candy-sharing friends Alice, Bob and Carol tried to split candies evenly. For the sake of their friendship, any candies left over would be smashed. For example, if they collectively bring home 91 candies, they'll take 30 each and smash 1.\n",
    "\n",
    "Below is a simple function that will calculate the number of candies to smash for *any* number of total candies.\n",
    "\n",
    "Modify it so that it optionally takes a second argument representing the number of friends the candies are being split between. If no second argument is provided, it should assume 3 friends, as before.\n",
    "\n",
    "Update the docstring to reflect this new behaviour."
   ]
  },
  {
   "cell_type": "code",
   "execution_count": 6,
   "id": "d138572f",
   "metadata": {
    "execution": {
     "iopub.execute_input": "2023-09-01T13:03:33.146929Z",
     "iopub.status.busy": "2023-09-01T13:03:33.146490Z",
     "iopub.status.idle": "2023-09-01T13:03:33.155374Z",
     "shell.execute_reply": "2023-09-01T13:03:33.154377Z"
    },
    "papermill": {
     "duration": 0.019295,
     "end_time": "2023-09-01T13:03:33.158519",
     "exception": false,
     "start_time": "2023-09-01T13:03:33.139224",
     "status": "completed"
    },
    "tags": []
   },
   "outputs": [
    {
     "data": {
      "application/javascript": [
       "parent.postMessage({\"jupyterEvent\": \"custom.exercise_interaction\", \"data\": {\"outcomeType\": 1, \"valueTowardsCompletion\": 0.16666666666666666, \"interactionType\": 1, \"questionType\": 2, \"questionId\": \"3_CandySmashingFunctionProblem\", \"learnToolsVersion\": \"0.3.4\", \"failureMessage\": \"\", \"exceptionClass\": \"\", \"trace\": \"\"}}, \"*\")"
      ],
      "text/plain": [
       "<IPython.core.display.Javascript object>"
      ]
     },
     "metadata": {},
     "output_type": "display_data"
    },
    {
     "data": {
      "text/markdown": [
       "<span style=\"color:#33cc33\">Correct</span>"
      ],
      "text/plain": [
       "Correct"
      ]
     },
     "metadata": {},
     "output_type": "display_data"
    }
   ],
   "source": [
    "def to_smash(total_candies, num_of_friends=3):\n",
    "    \"\"\"Return the number of leftover candies that must be smashed after distributing\n",
    "    the given number of candies evenly between 3 friends.\n",
    "    \n",
    "    >>> to_smash(91)\n",
    "    1\n",
    "    \"\"\"\n",
    "    return total_candies % num_of_friends \n",
    "\n",
    "# Check your answer\n",
    "q3.check()"
   ]
  },
  {
   "cell_type": "code",
   "execution_count": 7,
   "id": "c8ac72e0",
   "metadata": {
    "execution": {
     "iopub.execute_input": "2023-09-01T13:03:33.172996Z",
     "iopub.status.busy": "2023-09-01T13:03:33.172564Z",
     "iopub.status.idle": "2023-09-01T13:03:33.178209Z",
     "shell.execute_reply": "2023-09-01T13:03:33.176826Z"
    },
    "papermill": {
     "duration": 0.015877,
     "end_time": "2023-09-01T13:03:33.180887",
     "exception": false,
     "start_time": "2023-09-01T13:03:33.165010",
     "status": "completed"
    },
    "tags": []
   },
   "outputs": [],
   "source": [
    "#q3.hint()"
   ]
  },
  {
   "cell_type": "code",
   "execution_count": 8,
   "id": "d27cc485",
   "metadata": {
    "execution": {
     "iopub.execute_input": "2023-09-01T13:03:33.195309Z",
     "iopub.status.busy": "2023-09-01T13:03:33.194956Z",
     "iopub.status.idle": "2023-09-01T13:03:33.200332Z",
     "shell.execute_reply": "2023-09-01T13:03:33.198933Z"
    },
    "papermill": {
     "duration": 0.015455,
     "end_time": "2023-09-01T13:03:33.202903",
     "exception": false,
     "start_time": "2023-09-01T13:03:33.187448",
     "status": "completed"
    },
    "tags": []
   },
   "outputs": [],
   "source": [
    "#q3.solution()"
   ]
  },
  {
   "cell_type": "markdown",
   "id": "cd236104",
   "metadata": {
    "papermill": {
     "duration": 0.005931,
     "end_time": "2023-09-01T13:03:33.215194",
     "exception": false,
     "start_time": "2023-09-01T13:03:33.209263",
     "status": "completed"
    },
    "tags": []
   },
   "source": [
    "# 4. (Optional)\n",
    "\n",
    "It may not be fun, but reading and understanding error messages will be an important part of your Python career.\n",
    "\n",
    "Each code cell below contains some commented buggy code. For each cell...\n",
    "\n",
    "1. Read the code and predict what you think will happen when it's run.\n",
    "2. Then uncomment the code and run it to see what happens. (**Tip**: In the kernel editor, you can highlight several lines and press `ctrl`+`/` to toggle commenting.)\n",
    "3. Fix the code (so that it accomplishes its intended purpose without throwing an exception)\n",
    "\n",
    "<!-- TODO: should this be autochecked? Delta is probably pretty small. -->"
   ]
  },
  {
   "cell_type": "code",
   "execution_count": 9,
   "id": "7bc68656",
   "metadata": {
    "execution": {
     "iopub.execute_input": "2023-09-01T13:03:33.229801Z",
     "iopub.status.busy": "2023-09-01T13:03:33.229434Z",
     "iopub.status.idle": "2023-09-01T13:03:33.235069Z",
     "shell.execute_reply": "2023-09-01T13:03:33.233382Z"
    },
    "papermill": {
     "duration": 0.016472,
     "end_time": "2023-09-01T13:03:33.237960",
     "exception": false,
     "start_time": "2023-09-01T13:03:33.221488",
     "status": "completed"
    },
    "tags": []
   },
   "outputs": [],
   "source": [
    "# ruound_to_two_places(9.9999)"
   ]
  },
  {
   "cell_type": "code",
   "execution_count": 10,
   "id": "34675934",
   "metadata": {
    "execution": {
     "iopub.execute_input": "2023-09-01T13:03:33.253362Z",
     "iopub.status.busy": "2023-09-01T13:03:33.252998Z",
     "iopub.status.idle": "2023-09-01T13:03:33.258748Z",
     "shell.execute_reply": "2023-09-01T13:03:33.257042Z"
    },
    "papermill": {
     "duration": 0.01664,
     "end_time": "2023-09-01T13:03:33.261234",
     "exception": false,
     "start_time": "2023-09-01T13:03:33.244594",
     "status": "completed"
    },
    "tags": []
   },
   "outputs": [],
   "source": [
    "# x = -10\n",
    "# y = 5\n",
    "# # Which of the two variables above has the smallest absolute value?\n",
    "# smallest_abs = min(abs(x, y))"
   ]
  },
  {
   "cell_type": "code",
   "execution_count": 11,
   "id": "c2e6a180",
   "metadata": {
    "execution": {
     "iopub.execute_input": "2023-09-01T13:03:33.275629Z",
     "iopub.status.busy": "2023-09-01T13:03:33.275159Z",
     "iopub.status.idle": "2023-09-01T13:03:33.281654Z",
     "shell.execute_reply": "2023-09-01T13:03:33.280212Z"
    },
    "papermill": {
     "duration": 0.016469,
     "end_time": "2023-09-01T13:03:33.284021",
     "exception": false,
     "start_time": "2023-09-01T13:03:33.267552",
     "status": "completed"
    },
    "tags": []
   },
   "outputs": [
    {
     "name": "stdout",
     "output_type": "stream",
     "text": [
      "5\n"
     ]
    }
   ],
   "source": [
    "def f(x):\n",
    "    y = abs(x)\n",
    "    return y\n",
    "print(f(5))"
   ]
  },
  {
   "cell_type": "markdown",
   "id": "6e11dfcd",
   "metadata": {
    "papermill": {
     "duration": 0.006271,
     "end_time": "2023-09-01T13:03:33.297032",
     "exception": false,
     "start_time": "2023-09-01T13:03:33.290761",
     "status": "completed"
    },
    "tags": []
   },
   "source": [
    "# Keep Going\n",
    "\n",
    "Nice job with the code. Next up, you'll learn about *conditionals*, which you'll need to **[write interesting programs](https://www.kaggle.com/colinmorris/booleans-and-conditionals)**. "
   ]
  },
  {
   "cell_type": "markdown",
   "id": "47ba155d",
   "metadata": {
    "papermill": {
     "duration": 0.006077,
     "end_time": "2023-09-01T13:03:33.309407",
     "exception": false,
     "start_time": "2023-09-01T13:03:33.303330",
     "status": "completed"
    },
    "tags": []
   },
   "source": [
    "---\n",
    "\n",
    "\n",
    "\n",
    "\n",
    "*Have questions or comments? Visit the [course discussion forum](https://www.kaggle.com/learn/python/discussion) to chat with other learners.*"
   ]
  }
 ],
 "kernelspec": {
  "display_name": "Python 3",
  "language": "python",
  "name": "python3"
 },
 "language_info": {
  "codemirror_mode": {
   "name": "ipython",
   "version": 3
  },
  "file_extension": ".py",
  "mimetype": "text/x-python",
  "name": "python",
  "nbconvert_exporter": "python",
  "pygments_lexer": "ipython3",
  "version": "3.6.4"
 },
 "metadata": {
  "kernelspec": {
   "display_name": "Python 3",
   "language": "python",
   "name": "python3"
  },
  "language_info": {
   "codemirror_mode": {
    "name": "ipython",
    "version": 3
   },
   "file_extension": ".py",
   "mimetype": "text/x-python",
   "name": "python",
   "nbconvert_exporter": "python",
   "pygments_lexer": "ipython3",
   "version": "3.10.12"
  },
  "learntools_metadata": {
   "lesson_index": 1,
   "type": "exercise"
  },
  "papermill": {
   "default_parameters": {},
   "duration": 4.652548,
   "end_time": "2023-09-01T13:03:33.839681",
   "environment_variables": {},
   "exception": null,
   "input_path": "__notebook__.ipynb",
   "output_path": "__notebook__.ipynb",
   "parameters": {},
   "start_time": "2023-09-01T13:03:29.187133",
   "version": "2.4.0"
  }
 },
 "nbformat": 4,
 "nbformat_minor": 5
}
