{
 "cells": [
  {
   "cell_type": "markdown",
   "id": "4955c711",
   "metadata": {
    "papermill": {
     "duration": 0.006764,
     "end_time": "2023-09-04T14:44:08.275424",
     "exception": false,
     "start_time": "2023-09-04T14:44:08.268660",
     "status": "completed"
    },
    "tags": []
   },
   "source": [
    "**This notebook is an exercise in the [Introduction to Machine Learning](https://www.kaggle.com/learn/intro-to-machine-learning) course.  You can reference the tutorial at [this link](https://www.kaggle.com/dansbecker/model-validation).**\n",
    "\n",
    "---\n"
   ]
  },
  {
   "cell_type": "markdown",
   "id": "532ab20d",
   "metadata": {
    "papermill": {
     "duration": 0.005902,
     "end_time": "2023-09-04T14:44:08.287474",
     "exception": false,
     "start_time": "2023-09-04T14:44:08.281572",
     "status": "completed"
    },
    "tags": []
   },
   "source": [
    "## Recap\n",
    "You've built a model. In this exercise you will test how good your model is.\n",
    "\n",
    "Run the cell below to set up your coding environment where the previous exercise left off."
   ]
  },
  {
   "cell_type": "code",
   "execution_count": 1,
   "id": "1fcf2cda",
   "metadata": {
    "execution": {
     "iopub.execute_input": "2023-09-04T14:44:08.301603Z",
     "iopub.status.busy": "2023-09-04T14:44:08.300933Z",
     "iopub.status.idle": "2023-09-04T14:44:10.615372Z",
     "shell.execute_reply": "2023-09-04T14:44:10.614095Z"
    },
    "papermill": {
     "duration": 2.324467,
     "end_time": "2023-09-04T14:44:10.617977",
     "exception": false,
     "start_time": "2023-09-04T14:44:08.293510",
     "status": "completed"
    },
    "tags": []
   },
   "outputs": [
    {
     "name": "stdout",
     "output_type": "stream",
     "text": [
      "First in-sample predictions: [208500. 181500. 223500. 140000. 250000.]\n",
      "Actual target values for those homes: [208500, 181500, 223500, 140000, 250000]\n",
      "Setup Complete\n"
     ]
    }
   ],
   "source": [
    "# Code you have previously used to load data\n",
    "import pandas as pd\n",
    "from sklearn.tree import DecisionTreeRegressor\n",
    "\n",
    "# Path of the file to read\n",
    "iowa_file_path = '../input/home-data-for-ml-course/train.csv'\n",
    "\n",
    "home_data = pd.read_csv(iowa_file_path)\n",
    "y = home_data.SalePrice\n",
    "feature_columns = ['LotArea', 'YearBuilt', '1stFlrSF', '2ndFlrSF', 'FullBath', 'BedroomAbvGr', 'TotRmsAbvGrd']\n",
    "X = home_data[feature_columns]\n",
    "\n",
    "# Specify Model\n",
    "iowa_model = DecisionTreeRegressor()\n",
    "# Fit Model\n",
    "iowa_model.fit(X, y)\n",
    "\n",
    "print(\"First in-sample predictions:\", iowa_model.predict(X.head()))\n",
    "print(\"Actual target values for those homes:\", y.head().tolist())\n",
    "\n",
    "# Set up code checking\n",
    "from learntools.core import binder\n",
    "binder.bind(globals())\n",
    "from learntools.machine_learning.ex4 import *\n",
    "print(\"Setup Complete\")"
   ]
  },
  {
   "cell_type": "markdown",
   "id": "5db8682c",
   "metadata": {
    "papermill": {
     "duration": 0.006719,
     "end_time": "2023-09-04T14:44:10.631470",
     "exception": false,
     "start_time": "2023-09-04T14:44:10.624751",
     "status": "completed"
    },
    "tags": []
   },
   "source": [
    "# Exercises\n",
    "\n",
    "## Step 1: Split Your Data\n",
    "Use the `train_test_split` function to split up your data.\n",
    "\n",
    "Give it the argument `random_state=1` so the `check` functions know what to expect when verifying your code.\n",
    "\n",
    "Recall, your features are loaded in the DataFrame **X** and your target is loaded in **y**.\n"
   ]
  },
  {
   "cell_type": "code",
   "execution_count": 2,
   "id": "fc8f2c6d",
   "metadata": {
    "execution": {
     "iopub.execute_input": "2023-09-04T14:44:10.646515Z",
     "iopub.status.busy": "2023-09-04T14:44:10.646073Z",
     "iopub.status.idle": "2023-09-04T14:44:10.661417Z",
     "shell.execute_reply": "2023-09-04T14:44:10.660518Z"
    },
    "papermill": {
     "duration": 0.025884,
     "end_time": "2023-09-04T14:44:10.663802",
     "exception": false,
     "start_time": "2023-09-04T14:44:10.637918",
     "status": "completed"
    },
    "tags": []
   },
   "outputs": [
    {
     "data": {
      "application/javascript": [
       "parent.postMessage({\"jupyterEvent\": \"custom.exercise_interaction\", \"data\": {\"outcomeType\": 1, \"valueTowardsCompletion\": 0.25, \"interactionType\": 1, \"questionType\": 2, \"questionId\": \"1_SplitData\", \"learnToolsVersion\": \"0.3.4\", \"failureMessage\": \"\", \"exceptionClass\": \"\", \"trace\": \"\"}}, \"*\")"
      ],
      "text/plain": [
       "<IPython.core.display.Javascript object>"
      ]
     },
     "metadata": {},
     "output_type": "display_data"
    },
    {
     "data": {
      "text/markdown": [
       "<span style=\"color:#33cc33\">Correct</span>"
      ],
      "text/plain": [
       "Correct"
      ]
     },
     "metadata": {},
     "output_type": "display_data"
    }
   ],
   "source": [
    "# Import the train_test_split function and uncomment\n",
    "from sklearn.model_selection import train_test_split\n",
    "\n",
    "# fill in and uncomment\n",
    "train_X, val_X, train_y, val_y = train_test_split(X, y, random_state=1)\n",
    "\n",
    "# Check your answer\n",
    "step_1.check()"
   ]
  },
  {
   "cell_type": "code",
   "execution_count": 3,
   "id": "08c710d5",
   "metadata": {
    "execution": {
     "iopub.execute_input": "2023-09-04T14:44:10.681238Z",
     "iopub.status.busy": "2023-09-04T14:44:10.679789Z",
     "iopub.status.idle": "2023-09-04T14:44:10.684972Z",
     "shell.execute_reply": "2023-09-04T14:44:10.684065Z"
    },
    "papermill": {
     "duration": 0.016455,
     "end_time": "2023-09-04T14:44:10.687794",
     "exception": false,
     "start_time": "2023-09-04T14:44:10.671339",
     "status": "completed"
    },
    "tags": []
   },
   "outputs": [],
   "source": [
    "# The lines below will show you a hint or the solution.\n",
    "# step_1.hint() \n",
    "# step_1.solution()\n"
   ]
  },
  {
   "cell_type": "markdown",
   "id": "638813ce",
   "metadata": {
    "papermill": {
     "duration": 0.006434,
     "end_time": "2023-09-04T14:44:10.701607",
     "exception": false,
     "start_time": "2023-09-04T14:44:10.695173",
     "status": "completed"
    },
    "tags": []
   },
   "source": [
    "## Step 2: Specify and Fit the Model\n",
    "\n",
    "Create a `DecisionTreeRegressor` model and fit it to the relevant data.\n",
    "Set `random_state` to 1 again when creating the model."
   ]
  },
  {
   "cell_type": "code",
   "execution_count": 4,
   "id": "853f63eb",
   "metadata": {
    "execution": {
     "iopub.execute_input": "2023-09-04T14:44:10.718173Z",
     "iopub.status.busy": "2023-09-04T14:44:10.717715Z",
     "iopub.status.idle": "2023-09-04T14:44:10.749985Z",
     "shell.execute_reply": "2023-09-04T14:44:10.748893Z"
    },
    "papermill": {
     "duration": 0.04399,
     "end_time": "2023-09-04T14:44:10.752249",
     "exception": false,
     "start_time": "2023-09-04T14:44:10.708259",
     "status": "completed"
    },
    "tags": []
   },
   "outputs": [
    {
     "name": "stdout",
     "output_type": "stream",
     "text": [
      "[186500. 184000. 130000.  92000. 164500. 220000. 335000. 144152. 215000.\n",
      " 262000.]\n",
      "[186500. 184000. 130000.  92000. 164500. 220000. 335000. 144152. 215000.\n",
      " 262000.]\n"
     ]
    },
    {
     "data": {
      "application/javascript": [
       "parent.postMessage({\"jupyterEvent\": \"custom.exercise_interaction\", \"data\": {\"outcomeType\": 1, \"valueTowardsCompletion\": 0.25, \"interactionType\": 1, \"questionType\": 2, \"questionId\": \"2_FitModelWithTrain\", \"learnToolsVersion\": \"0.3.4\", \"failureMessage\": \"\", \"exceptionClass\": \"\", \"trace\": \"\"}}, \"*\")"
      ],
      "text/plain": [
       "<IPython.core.display.Javascript object>"
      ]
     },
     "metadata": {},
     "output_type": "display_data"
    },
    {
     "data": {
      "text/markdown": [
       "<span style=\"color:#33cc33\">Correct</span>"
      ],
      "text/plain": [
       "Correct"
      ]
     },
     "metadata": {},
     "output_type": "display_data"
    }
   ],
   "source": [
    "# You imported DecisionTreeRegressor in your last exercise\n",
    "# and that code has been copied to the setup code above. So, no need to\n",
    "# import it again\n",
    "\n",
    "# Specify the model\n",
    "iowa_model = iowa_model = DecisionTreeRegressor(random_state=1)\n",
    "\n",
    "# Fit iowa_model with the training data.\n",
    "iowa_model.fit(train_X, train_y)\n",
    "\n",
    "# Check your answer\n",
    "step_2.check()"
   ]
  },
  {
   "cell_type": "code",
   "execution_count": 5,
   "id": "4114f012",
   "metadata": {
    "execution": {
     "iopub.execute_input": "2023-09-04T14:44:10.768691Z",
     "iopub.status.busy": "2023-09-04T14:44:10.767892Z",
     "iopub.status.idle": "2023-09-04T14:44:10.772184Z",
     "shell.execute_reply": "2023-09-04T14:44:10.771310Z"
    },
    "papermill": {
     "duration": 0.01519,
     "end_time": "2023-09-04T14:44:10.774332",
     "exception": false,
     "start_time": "2023-09-04T14:44:10.759142",
     "status": "completed"
    },
    "tags": []
   },
   "outputs": [],
   "source": [
    "# step_2.hint()\n",
    "# step_2.solution()"
   ]
  },
  {
   "cell_type": "markdown",
   "id": "8ae48f30",
   "metadata": {
    "papermill": {
     "duration": 0.006334,
     "end_time": "2023-09-04T14:44:10.787488",
     "exception": false,
     "start_time": "2023-09-04T14:44:10.781154",
     "status": "completed"
    },
    "tags": []
   },
   "source": [
    "## Step 3: Make Predictions with Validation data\n"
   ]
  },
  {
   "cell_type": "code",
   "execution_count": 6,
   "id": "4cebdaf1",
   "metadata": {
    "execution": {
     "iopub.execute_input": "2023-09-04T14:44:10.802707Z",
     "iopub.status.busy": "2023-09-04T14:44:10.802233Z",
     "iopub.status.idle": "2023-09-04T14:44:10.816370Z",
     "shell.execute_reply": "2023-09-04T14:44:10.815199Z"
    },
    "papermill": {
     "duration": 0.024416,
     "end_time": "2023-09-04T14:44:10.818606",
     "exception": false,
     "start_time": "2023-09-04T14:44:10.794190",
     "status": "completed"
    },
    "tags": []
   },
   "outputs": [
    {
     "data": {
      "application/javascript": [
       "parent.postMessage({\"jupyterEvent\": \"custom.exercise_interaction\", \"data\": {\"outcomeType\": 1, \"valueTowardsCompletion\": 0.25, \"interactionType\": 1, \"questionType\": 2, \"questionId\": \"3_ValPreds\", \"learnToolsVersion\": \"0.3.4\", \"failureMessage\": \"\", \"exceptionClass\": \"\", \"trace\": \"\"}}, \"*\")"
      ],
      "text/plain": [
       "<IPython.core.display.Javascript object>"
      ]
     },
     "metadata": {},
     "output_type": "display_data"
    },
    {
     "data": {
      "text/markdown": [
       "<span style=\"color:#33cc33\">Correct</span>"
      ],
      "text/plain": [
       "Correct"
      ]
     },
     "metadata": {},
     "output_type": "display_data"
    }
   ],
   "source": [
    "# Predict with all validation observations\n",
    "val_predictions = iowa_model.predict(val_X)\n",
    "\n",
    "# Check your answer\n",
    "step_3.check()"
   ]
  },
  {
   "cell_type": "code",
   "execution_count": 7,
   "id": "00eac33c",
   "metadata": {
    "execution": {
     "iopub.execute_input": "2023-09-04T14:44:10.835007Z",
     "iopub.status.busy": "2023-09-04T14:44:10.834504Z",
     "iopub.status.idle": "2023-09-04T14:44:10.839386Z",
     "shell.execute_reply": "2023-09-04T14:44:10.838227Z"
    },
    "papermill": {
     "duration": 0.016196,
     "end_time": "2023-09-04T14:44:10.842297",
     "exception": false,
     "start_time": "2023-09-04T14:44:10.826101",
     "status": "completed"
    },
    "tags": []
   },
   "outputs": [],
   "source": [
    "# step_3.hint()\n",
    "# step_3.solution()"
   ]
  },
  {
   "cell_type": "markdown",
   "id": "0d4922fc",
   "metadata": {
    "papermill": {
     "duration": 0.006693,
     "end_time": "2023-09-04T14:44:10.856760",
     "exception": false,
     "start_time": "2023-09-04T14:44:10.850067",
     "status": "completed"
    },
    "tags": []
   },
   "source": [
    "Inspect your predictions and actual values from validation data."
   ]
  },
  {
   "cell_type": "code",
   "execution_count": 8,
   "id": "8f53b39c",
   "metadata": {
    "execution": {
     "iopub.execute_input": "2023-09-04T14:44:10.872528Z",
     "iopub.status.busy": "2023-09-04T14:44:10.872110Z",
     "iopub.status.idle": "2023-09-04T14:44:10.879352Z",
     "shell.execute_reply": "2023-09-04T14:44:10.878119Z"
    },
    "papermill": {
     "duration": 0.017942,
     "end_time": "2023-09-04T14:44:10.881830",
     "exception": false,
     "start_time": "2023-09-04T14:44:10.863888",
     "status": "completed"
    },
    "tags": []
   },
   "outputs": [
    {
     "name": "stdout",
     "output_type": "stream",
     "text": [
      "[186500. 184000. 130000.  92000. 164500.]\n",
      "258     231500\n",
      "267     179500\n",
      "288     122000\n",
      "649      84500\n",
      "1233    142000\n",
      "Name: SalePrice, dtype: int64\n"
     ]
    }
   ],
   "source": [
    "# print the top few validation predictions\n",
    "print(val_predictions[:5])\n",
    "# print the top few actual prices from validation data\n",
    "print(val_y[:5])"
   ]
  },
  {
   "cell_type": "markdown",
   "id": "d0c4396d",
   "metadata": {
    "papermill": {
     "duration": 0.00669,
     "end_time": "2023-09-04T14:44:10.895986",
     "exception": false,
     "start_time": "2023-09-04T14:44:10.889296",
     "status": "completed"
    },
    "tags": []
   },
   "source": [
    "What do you notice that is different from what you saw with in-sample predictions (which are printed after the top code cell in this page).\n",
    "\n",
    "Do you remember why validation predictions differ from in-sample (or training) predictions? This is an important idea from the last lesson.\n",
    "\n",
    "## Step 4: Calculate the Mean Absolute Error in Validation Data\n"
   ]
  },
  {
   "cell_type": "code",
   "execution_count": 9,
   "id": "8229aac4",
   "metadata": {
    "execution": {
     "iopub.execute_input": "2023-09-04T14:44:10.913240Z",
     "iopub.status.busy": "2023-09-04T14:44:10.912830Z",
     "iopub.status.idle": "2023-09-04T14:44:10.925090Z",
     "shell.execute_reply": "2023-09-04T14:44:10.923841Z"
    },
    "papermill": {
     "duration": 0.024355,
     "end_time": "2023-09-04T14:44:10.927583",
     "exception": false,
     "start_time": "2023-09-04T14:44:10.903228",
     "status": "completed"
    },
    "tags": []
   },
   "outputs": [
    {
     "name": "stdout",
     "output_type": "stream",
     "text": [
      "29652.931506849316\n"
     ]
    },
    {
     "data": {
      "application/javascript": [
       "parent.postMessage({\"jupyterEvent\": \"custom.exercise_interaction\", \"data\": {\"outcomeType\": 1, \"valueTowardsCompletion\": 0.25, \"interactionType\": 1, \"questionType\": 1, \"questionId\": \"4_MAE\", \"learnToolsVersion\": \"0.3.4\", \"failureMessage\": \"\", \"exceptionClass\": \"\", \"trace\": \"\"}}, \"*\")"
      ],
      "text/plain": [
       "<IPython.core.display.Javascript object>"
      ]
     },
     "metadata": {},
     "output_type": "display_data"
    },
    {
     "data": {
      "text/markdown": [
       "<span style=\"color:#33cc33\">Correct</span>"
      ],
      "text/plain": [
       "Correct"
      ]
     },
     "metadata": {},
     "output_type": "display_data"
    }
   ],
   "source": [
    "from sklearn.metrics import mean_absolute_error\n",
    "val_mae = mean_absolute_error(val_y, val_predictions)\n",
    "\n",
    "# uncomment following line to see the validation_mae\n",
    "print(val_mae)\n",
    "\n",
    "# Check your answer\n",
    "step_4.check()"
   ]
  },
  {
   "cell_type": "code",
   "execution_count": 10,
   "id": "5478a9ea",
   "metadata": {
    "execution": {
     "iopub.execute_input": "2023-09-04T14:44:10.945167Z",
     "iopub.status.busy": "2023-09-04T14:44:10.944734Z",
     "iopub.status.idle": "2023-09-04T14:44:10.950017Z",
     "shell.execute_reply": "2023-09-04T14:44:10.948752Z"
    },
    "papermill": {
     "duration": 0.017221,
     "end_time": "2023-09-04T14:44:10.952300",
     "exception": false,
     "start_time": "2023-09-04T14:44:10.935079",
     "status": "completed"
    },
    "tags": []
   },
   "outputs": [],
   "source": [
    "# step_4.hint()\n",
    "# step_4.solution()"
   ]
  },
  {
   "cell_type": "markdown",
   "id": "ad140912",
   "metadata": {
    "papermill": {
     "duration": 0.006883,
     "end_time": "2023-09-04T14:44:10.966576",
     "exception": false,
     "start_time": "2023-09-04T14:44:10.959693",
     "status": "completed"
    },
    "tags": []
   },
   "source": [
    "Is that MAE good?  There isn't a general rule for what values are good that applies across applications. But you'll see how to use (and improve) this number in the next step.\n",
    "\n",
    "# Keep Going\n",
    "\n",
    "You are ready for **[Underfitting and Overfitting](https://www.kaggle.com/dansbecker/underfitting-and-overfitting).**\n"
   ]
  },
  {
   "cell_type": "markdown",
   "id": "d2cdca61",
   "metadata": {
    "papermill": {
     "duration": 0.007331,
     "end_time": "2023-09-04T14:44:10.981389",
     "exception": false,
     "start_time": "2023-09-04T14:44:10.974058",
     "status": "completed"
    },
    "tags": []
   },
   "source": [
    "---\n",
    "\n",
    "\n",
    "\n",
    "\n",
    "*Have questions or comments? Visit the [course discussion forum](https://www.kaggle.com/learn/intro-to-machine-learning/discussion) to chat with other learners.*"
   ]
  }
 ],
 "kernelspec": {
  "display_name": "Python 3",
  "language": "python",
  "name": "python3"
 },
 "language_info": {
  "codemirror_mode": {
   "name": "ipython",
   "version": 3
  },
  "file_extension": ".py",
  "mimetype": "text/x-python",
  "name": "python",
  "nbconvert_exporter": "python",
  "pygments_lexer": "ipython3",
  "version": "3.6.4"
 },
 "metadata": {
  "kernelspec": {
   "display_name": "Python 3",
   "language": "python",
   "name": "python3"
  },
  "language_info": {
   "codemirror_mode": {
    "name": "ipython",
    "version": 3
   },
   "file_extension": ".py",
   "mimetype": "text/x-python",
   "name": "python",
   "nbconvert_exporter": "python",
   "pygments_lexer": "ipython3",
   "version": "3.10.12"
  },
  "papermill": {
   "default_parameters": {},
   "duration": 6.949725,
   "end_time": "2023-09-04T14:44:11.711152",
   "environment_variables": {},
   "exception": null,
   "input_path": "__notebook__.ipynb",
   "output_path": "__notebook__.ipynb",
   "parameters": {},
   "start_time": "2023-09-04T14:44:04.761427",
   "version": "2.4.0"
  }
 },
 "nbformat": 4,
 "nbformat_minor": 5
}
