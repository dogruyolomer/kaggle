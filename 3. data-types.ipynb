{
 "cells": [
  {
   "cell_type": "markdown",
   "id": "d6d9ff8c",
   "metadata": {
    "papermill": {
     "duration": 0.008697,
     "end_time": "2023-08-19T13:30:35.792992",
     "exception": false,
     "start_time": "2023-08-19T13:30:35.784295",
     "status": "completed"
    },
    "tags": []
   },
   "source": [
    "**This notebook is an exercise in the [Intro to Programming](https://www.kaggle.com/learn/intro-to-programming) course.  You can reference the tutorial at [this link](https://www.kaggle.com/alexisbcook/data-types).**\n",
    "\n",
    "---\n"
   ]
  },
  {
   "cell_type": "markdown",
   "id": "2af8e2fa",
   "metadata": {
    "papermill": {
     "duration": 0.00771,
     "end_time": "2023-08-19T13:30:35.808923",
     "exception": false,
     "start_time": "2023-08-19T13:30:35.801213",
     "status": "completed"
    },
    "tags": []
   },
   "source": [
    "In the tutorial, you learned about four different data types: floats, integers, strings, and booleans.  In this exercise, you'll experiment with them.\n",
    "\n",
    "# Set up the notebook\n",
    "\n",
    "Run the next code cell without changes to set up the notebook."
   ]
  },
  {
   "cell_type": "code",
   "execution_count": 1,
   "id": "59f13ed1",
   "metadata": {
    "execution": {
     "iopub.execute_input": "2023-08-19T13:30:35.827231Z",
     "iopub.status.busy": "2023-08-19T13:30:35.826636Z",
     "iopub.status.idle": "2023-08-19T13:30:35.897838Z",
     "shell.execute_reply": "2023-08-19T13:30:35.896157Z"
    },
    "papermill": {
     "duration": 0.083972,
     "end_time": "2023-08-19T13:30:35.900880",
     "exception": false,
     "start_time": "2023-08-19T13:30:35.816908",
     "status": "completed"
    },
    "tags": []
   },
   "outputs": [
    {
     "name": "stdout",
     "output_type": "stream",
     "text": [
      "Setup complete.\n"
     ]
    }
   ],
   "source": [
    "# Set up the exercise\n",
    "from learntools.core import binder\n",
    "binder.bind(globals())\n",
    "from learntools.intro_to_programming.ex3 import *\n",
    "print('Setup complete.')"
   ]
  },
  {
   "cell_type": "markdown",
   "id": "1338e489",
   "metadata": {
    "papermill": {
     "duration": 0.008037,
     "end_time": "2023-08-19T13:30:35.917817",
     "exception": false,
     "start_time": "2023-08-19T13:30:35.909780",
     "status": "completed"
    },
    "tags": []
   },
   "source": [
    "# Question 1\n",
    "\n",
    "You have seen how to convert a float to an integer with the `int` function.  Try this out yourself by running the code cell below."
   ]
  },
  {
   "cell_type": "code",
   "execution_count": 2,
   "id": "7b5b0a08",
   "metadata": {
    "execution": {
     "iopub.execute_input": "2023-08-19T13:30:35.937347Z",
     "iopub.status.busy": "2023-08-19T13:30:35.936485Z",
     "iopub.status.idle": "2023-08-19T13:30:35.945311Z",
     "shell.execute_reply": "2023-08-19T13:30:35.943183Z"
    },
    "papermill": {
     "duration": 0.022045,
     "end_time": "2023-08-19T13:30:35.948148",
     "exception": false,
     "start_time": "2023-08-19T13:30:35.926103",
     "status": "completed"
    },
    "tags": []
   },
   "outputs": [
    {
     "name": "stdout",
     "output_type": "stream",
     "text": [
      "1.456\n",
      "<class 'float'>\n",
      "1\n",
      "<class 'int'>\n"
     ]
    }
   ],
   "source": [
    "# Define a float\n",
    "y = 1.456\n",
    "print(y)\n",
    "print(type(y))\n",
    "\n",
    "# Convert float to integer with the int function\n",
    "z = int(y)\n",
    "print(z)\n",
    "print(type(z))"
   ]
  },
  {
   "cell_type": "markdown",
   "id": "18039cfa",
   "metadata": {
    "papermill": {
     "duration": 0.008377,
     "end_time": "2023-08-19T13:30:35.965137",
     "exception": false,
     "start_time": "2023-08-19T13:30:35.956760",
     "status": "completed"
    },
    "tags": []
   },
   "source": [
    "In this case, the float you are using has no numbers after the decimal.  \n",
    "- But what happens when you try to convert a float with a fractional part to an integer?  \n",
    "- How does the outcome of the `int` function change for positive and negative numbers?\n",
    "\n",
    "Use the next code cell to investigate and answer these questions.  Feel free to add or remove any lines of code -- it is your workspace!"
   ]
  },
  {
   "cell_type": "code",
   "execution_count": 3,
   "id": "fa959400",
   "metadata": {
    "execution": {
     "iopub.execute_input": "2023-08-19T13:30:35.986277Z",
     "iopub.status.busy": "2023-08-19T13:30:35.985849Z",
     "iopub.status.idle": "2023-08-19T13:30:35.993896Z",
     "shell.execute_reply": "2023-08-19T13:30:35.992366Z"
    },
    "papermill": {
     "duration": 0.021375,
     "end_time": "2023-08-19T13:30:35.996789",
     "exception": false,
     "start_time": "2023-08-19T13:30:35.975414",
     "status": "completed"
    },
    "tags": []
   },
   "outputs": [
    {
     "name": "stdout",
     "output_type": "stream",
     "text": [
      "1\n",
      "1\n",
      "-3\n",
      "-2\n"
     ]
    }
   ],
   "source": [
    "# Uncomment and run this code to get started!\n",
    "print(int(1.2321))\n",
    "print(int(1.747))\n",
    "print(int(-3.94535))\n",
    "print(int(-2.19774))"
   ]
  },
  {
   "cell_type": "markdown",
   "id": "24a4966c",
   "metadata": {
    "papermill": {
     "duration": 0.013232,
     "end_time": "2023-08-19T13:30:36.022677",
     "exception": false,
     "start_time": "2023-08-19T13:30:36.009445",
     "status": "completed"
    },
    "tags": []
   },
   "source": [
    "Once you have an answer, run the code cell below to see the solution.  Viewing the solution will give you credit for answering the problem."
   ]
  },
  {
   "cell_type": "code",
   "execution_count": 4,
   "id": "040d13f7",
   "metadata": {
    "execution": {
     "iopub.execute_input": "2023-08-19T13:30:36.043657Z",
     "iopub.status.busy": "2023-08-19T13:30:36.042827Z",
     "iopub.status.idle": "2023-08-19T13:30:36.056063Z",
     "shell.execute_reply": "2023-08-19T13:30:36.055040Z"
    },
    "papermill": {
     "duration": 0.026377,
     "end_time": "2023-08-19T13:30:36.058329",
     "exception": false,
     "start_time": "2023-08-19T13:30:36.031952",
     "status": "completed"
    },
    "tags": []
   },
   "outputs": [
    {
     "name": "stdout",
     "output_type": "stream",
     "text": [
      "123\n"
     ]
    },
    {
     "data": {
      "application/javascript": [
       "parent.postMessage({\"jupyterEvent\": \"custom.exercise_interaction\", \"data\": {\"outcomeType\": 1, \"valueTowardsCompletion\": 0.2, \"interactionType\": 1, \"questionType\": 4, \"questionId\": \"1_FloatToInt\", \"learnToolsVersion\": \"0.3.4\", \"failureMessage\": \"\", \"exceptionClass\": \"\", \"trace\": \"\"}}, \"*\")"
      ],
      "text/plain": [
       "<IPython.core.display.Javascript object>"
      ]
     },
     "metadata": {},
     "output_type": "display_data"
    },
    {
     "data": {
      "text/markdown": [
       "<span style=\"color:#33cc33\">Correct:</span> \n",
       "\n",
       "Negative floats are always rounded UP to the closest integer (for instance, both -1.1 and -1.9 are rounded up to -1). Positive floats are always rounded DOWN to the closest integer (for instance, 2.1 and 2.9 are rounded down to 2)."
      ],
      "text/plain": [
       "Correct: \n",
       "\n",
       "Negative floats are always rounded UP to the closest integer (for instance, both -1.1 and -1.9 are rounded up to -1). Positive floats are always rounded DOWN to the closest integer (for instance, 2.1 and 2.9 are rounded down to 2)."
      ]
     },
     "metadata": {},
     "output_type": "display_data"
    }
   ],
   "source": [
    "# Check your answer (Run this code cell to receive credit!)\n",
    "print(int(123))\n",
    "q1.check()"
   ]
  },
  {
   "cell_type": "markdown",
   "id": "2e24ee63",
   "metadata": {
    "papermill": {
     "duration": 0.008982,
     "end_time": "2023-08-19T13:30:36.076410",
     "exception": false,
     "start_time": "2023-08-19T13:30:36.067428",
     "status": "completed"
    },
    "tags": []
   },
   "source": [
    "# Question 2\n",
    "\n",
    "In the tutorial, you learned about booleans (which can take a value of `True` or `False`), in addition to integers, floats, and strings.  For this question, your goal is to determine what happens when you multiply a boolean by any of these data types.  Specifically, \n",
    "- What happens when you multiply an integer or float by `True`?  What happens when you multiply them by `False`?  How does the answer change if the numbers are positive or negative?\n",
    "- What happens when you multiply a string by `True`?  By `False`?\n",
    "\n",
    "Use the next code cell for your investigation. "
   ]
  },
  {
   "cell_type": "code",
   "execution_count": 5,
   "id": "f77821de",
   "metadata": {
    "execution": {
     "iopub.execute_input": "2023-08-19T13:30:36.096644Z",
     "iopub.status.busy": "2023-08-19T13:30:36.096149Z",
     "iopub.status.idle": "2023-08-19T13:30:36.104509Z",
     "shell.execute_reply": "2023-08-19T13:30:36.102954Z"
    },
    "papermill": {
     "duration": 0.021861,
     "end_time": "2023-08-19T13:30:36.107315",
     "exception": false,
     "start_time": "2023-08-19T13:30:36.085454",
     "status": "completed"
    },
    "tags": []
   },
   "outputs": [
    {
     "name": "stdout",
     "output_type": "stream",
     "text": [
      "3\n",
      "-3.1\n",
      "<class 'str'>\n",
      "0\n"
     ]
    }
   ],
   "source": [
    "# Uncomment and run this code to get started!\n",
    "print(3 * True)\n",
    "print(-3.1 * True)\n",
    "print(type(\"abc\" * False))\n",
    "print(len(\"abc\" * False))"
   ]
  },
  {
   "cell_type": "markdown",
   "id": "1ef9d1ee",
   "metadata": {
    "papermill": {
     "duration": 0.010763,
     "end_time": "2023-08-19T13:30:36.127891",
     "exception": false,
     "start_time": "2023-08-19T13:30:36.117128",
     "status": "completed"
    },
    "tags": []
   },
   "source": [
    "Once you have an answer, run the code cell below to see the solution.  Viewing the solution will give you credit for answering the problem."
   ]
  },
  {
   "cell_type": "code",
   "execution_count": 6,
   "id": "bf6f464d",
   "metadata": {
    "execution": {
     "iopub.execute_input": "2023-08-19T13:30:36.150167Z",
     "iopub.status.busy": "2023-08-19T13:30:36.149692Z",
     "iopub.status.idle": "2023-08-19T13:30:36.160557Z",
     "shell.execute_reply": "2023-08-19T13:30:36.159634Z"
    },
    "papermill": {
     "duration": 0.02489,
     "end_time": "2023-08-19T13:30:36.163263",
     "exception": false,
     "start_time": "2023-08-19T13:30:36.138373",
     "status": "completed"
    },
    "tags": []
   },
   "outputs": [
    {
     "name": "stdout",
     "output_type": "stream",
     "text": [
      "3\n",
      "-3.1\n",
      "<class 'str'>\n",
      "0\n"
     ]
    },
    {
     "data": {
      "application/javascript": [
       "parent.postMessage({\"jupyterEvent\": \"custom.exercise_interaction\", \"data\": {\"outcomeType\": 1, \"valueTowardsCompletion\": 0.2, \"interactionType\": 1, \"questionType\": 4, \"questionId\": \"2_MultiplyBooleans\", \"learnToolsVersion\": \"0.3.4\", \"failureMessage\": \"\", \"exceptionClass\": \"\", \"trace\": \"\"}}, \"*\")"
      ],
      "text/plain": [
       "<IPython.core.display.Javascript object>"
      ]
     },
     "metadata": {},
     "output_type": "display_data"
    },
    {
     "data": {
      "text/markdown": [
       "<span style=\"color:#33cc33\">Correct:</span> \n",
       "\n",
       "When you multiple an integer or float by a boolean with value `True`, it just returns that same integer or float (and is equivalent to multiplying by 1).  If you multiply an integer or float by a boolean with value `False`, it always returns 0.  This is true for both positive and negative numbers.  If you multiply a string by a boolean with value `True`, it just returns that same string.  And if you multiply a string by a boolean with value `False`, it returns an empty string (or a string with length zero)."
      ],
      "text/plain": [
       "Correct: \n",
       "\n",
       "When you multiple an integer or float by a boolean with value `True`, it just returns that same integer or float (and is equivalent to multiplying by 1).  If you multiply an integer or float by a boolean with value `False`, it always returns 0.  This is true for both positive and negative numbers.  If you multiply a string by a boolean with value `True`, it just returns that same string.  And if you multiply a string by a boolean with value `False`, it returns an empty string (or a string with length zero)."
      ]
     },
     "metadata": {},
     "output_type": "display_data"
    }
   ],
   "source": [
    "# Check your answer (Run this code cell to receive credit!)\n",
    "print(3 * True)\n",
    "print(-3.1 * True)\n",
    "print(type(\"abc\" * False))\n",
    "print(len(\"abc\" * False))\n",
    "q2.check()"
   ]
  },
  {
   "cell_type": "markdown",
   "id": "bba06cdf",
   "metadata": {
    "papermill": {
     "duration": 0.009762,
     "end_time": "2023-08-19T13:30:36.183098",
     "exception": false,
     "start_time": "2023-08-19T13:30:36.173336",
     "status": "completed"
    },
    "tags": []
   },
   "source": [
    "# Question 3\n",
    "\n",
    "In this question, you will build off your work from the previous exercise to write a function that estimates the value of a house.\n",
    "\n",
    "Use the next code cell to create a function `get_expected_cost` that takes as input three variables:\n",
    "- `beds` - number of bedrooms (data type float)\n",
    "- `baths` - number of bathrooms (data type float)\n",
    "- `has_basement` - whether or not the house has a basement (data type boolean)\n",
    "\n",
    "It should return the expected cost of a house with those characteristics. Assume that:\n",
    "- the expected cost for a house with 0 bedrooms and 0 bathrooms, and no basement is 80000, \n",
    "- each bedroom adds 30000 to the expected cost,\n",
    "- each bathroom adds 10000 to the expected cost, and\n",
    "- a basement adds 40000 to the expected cost.\n",
    "\n",
    "For instance,\n",
    "- a house with 1 bedroom, 1 bathroom, and no basement has an expected cost of 80000 + 30000 + 10000 = 120000.  This value will be calculated with `get_expected_cost(1, 1, False)`.\n",
    "- a house with 2 bedrooms, 1 bathroom, and a basement has an expected cost of 80000 + 2*30000 + 10000 + 40000 = 190000.  This value will be calculated with `get_expected_cost(2, 1, True)`.\n",
    "\n",
    "Remember you can always get a hint by uncommenting `q3.hint()` in the code cell following the next!"
   ]
  },
  {
   "cell_type": "code",
   "execution_count": 7,
   "id": "24cc87b7",
   "metadata": {
    "execution": {
     "iopub.execute_input": "2023-08-19T13:30:36.205215Z",
     "iopub.status.busy": "2023-08-19T13:30:36.204792Z",
     "iopub.status.idle": "2023-08-19T13:30:36.214945Z",
     "shell.execute_reply": "2023-08-19T13:30:36.213796Z"
    },
    "papermill": {
     "duration": 0.024474,
     "end_time": "2023-08-19T13:30:36.217554",
     "exception": false,
     "start_time": "2023-08-19T13:30:36.193080",
     "status": "completed"
    },
    "tags": []
   },
   "outputs": [
    {
     "data": {
      "application/javascript": [
       "parent.postMessage({\"jupyterEvent\": \"custom.exercise_interaction\", \"data\": {\"outcomeType\": 1, \"valueTowardsCompletion\": 0.2, \"interactionType\": 1, \"questionType\": 2, \"questionId\": \"3_EstimateHouseValueBool\", \"learnToolsVersion\": \"0.3.4\", \"failureMessage\": \"\", \"exceptionClass\": \"\", \"trace\": \"\"}}, \"*\")"
      ],
      "text/plain": [
       "<IPython.core.display.Javascript object>"
      ]
     },
     "metadata": {},
     "output_type": "display_data"
    },
    {
     "data": {
      "text/markdown": [
       "<span style=\"color:#33cc33\">Correct</span>"
      ],
      "text/plain": [
       "Correct"
      ]
     },
     "metadata": {},
     "output_type": "display_data"
    }
   ],
   "source": [
    "# TODO: Complete the function\n",
    "def get_expected_cost(beds, baths, has_basement):\n",
    "    value = 80000 + beds*30000 + baths*10000 + has_basement*40000\n",
    "    return value\n",
    "\n",
    "# Check your answer \n",
    "q3.check()"
   ]
  },
  {
   "cell_type": "code",
   "execution_count": 8,
   "id": "538fa8bb",
   "metadata": {
    "execution": {
     "iopub.execute_input": "2023-08-19T13:30:36.243041Z",
     "iopub.status.busy": "2023-08-19T13:30:36.242577Z",
     "iopub.status.idle": "2023-08-19T13:30:36.255328Z",
     "shell.execute_reply": "2023-08-19T13:30:36.253459Z"
    },
    "papermill": {
     "duration": 0.028391,
     "end_time": "2023-08-19T13:30:36.258703",
     "exception": false,
     "start_time": "2023-08-19T13:30:36.230312",
     "status": "completed"
    },
    "tags": []
   },
   "outputs": [
    {
     "data": {
      "application/javascript": [
       "parent.postMessage({\"jupyterEvent\": \"custom.exercise_interaction\", \"data\": {\"interactionType\": 3, \"questionType\": 2, \"questionId\": \"3_EstimateHouseValueBool\", \"learnToolsVersion\": \"0.3.4\", \"valueTowardsCompletion\": 0.0, \"failureMessage\": \"\", \"exceptionClass\": \"\", \"trace\": \"\", \"outcomeType\": 4}}, \"*\")"
      ],
      "text/plain": [
       "<IPython.core.display.Javascript object>"
      ]
     },
     "metadata": {},
     "output_type": "display_data"
    },
    {
     "data": {
      "text/markdown": [
       "<span style=\"color:#33cc99\">Solution:</span> \n",
       "```python\n",
       "def get_expected_cost(beds, baths, has_basement):\n",
       "    value = 80000 + 30000 * beds + 10000 * baths + 40000 * has_basement\n",
       "    return value\n",
       "\n",
       "```"
      ],
      "text/plain": [
       "Solution: \n",
       "```python\n",
       "def get_expected_cost(beds, baths, has_basement):\n",
       "    value = 80000 + 30000 * beds + 10000 * baths + 40000 * has_basement\n",
       "    return value\n",
       "\n",
       "```"
      ]
     },
     "metadata": {},
     "output_type": "display_data"
    }
   ],
   "source": [
    "# Uncomment to see a hint\n",
    "#q3.hint()\n",
    "\n",
    "# Uncomment to view the solution\n",
    "q3.solution()"
   ]
  },
  {
   "cell_type": "markdown",
   "id": "b4e2ffe3",
   "metadata": {
    "papermill": {
     "duration": 0.010657,
     "end_time": "2023-08-19T13:30:36.280287",
     "exception": false,
     "start_time": "2023-08-19T13:30:36.269630",
     "status": "completed"
    },
    "tags": []
   },
   "source": [
    "# Question 4\n",
    "\n",
    "We'll continue our study of boolean arithmetic.  For this question, your task is to provide a description of what happpens when you add booleans. \n",
    "\n",
    "Use the next code cell for your investigation.  Feel free to add or remove any lines of code - use it as your workspace!"
   ]
  },
  {
   "cell_type": "code",
   "execution_count": 9,
   "id": "f5912226",
   "metadata": {
    "execution": {
     "iopub.execute_input": "2023-08-19T13:30:36.304359Z",
     "iopub.status.busy": "2023-08-19T13:30:36.303861Z",
     "iopub.status.idle": "2023-08-19T13:30:36.311791Z",
     "shell.execute_reply": "2023-08-19T13:30:36.310458Z"
    },
    "papermill": {
     "duration": 0.024035,
     "end_time": "2023-08-19T13:30:36.315283",
     "exception": false,
     "start_time": "2023-08-19T13:30:36.291248",
     "status": "completed"
    },
    "tags": []
   },
   "outputs": [
    {
     "name": "stdout",
     "output_type": "stream",
     "text": [
      "0\n",
      "1\n",
      "1\n",
      "2\n",
      "3\n"
     ]
    }
   ],
   "source": [
    "print(False + False)\n",
    "print(True + False)\n",
    "print(False + True)\n",
    "print(True + True)\n",
    "print(False + True + True + True)"
   ]
  },
  {
   "cell_type": "markdown",
   "id": "3cb33417",
   "metadata": {
    "papermill": {
     "duration": 0.012376,
     "end_time": "2023-08-19T13:30:36.340081",
     "exception": false,
     "start_time": "2023-08-19T13:30:36.327705",
     "status": "completed"
    },
    "tags": []
   },
   "source": [
    "Once you have an answer, run the code cell below to see the solution.  Viewing the solution will give you credit for answering the problem."
   ]
  },
  {
   "cell_type": "code",
   "execution_count": 10,
   "id": "24313af0",
   "metadata": {
    "execution": {
     "iopub.execute_input": "2023-08-19T13:30:36.369132Z",
     "iopub.status.busy": "2023-08-19T13:30:36.368036Z",
     "iopub.status.idle": "2023-08-19T13:30:36.380903Z",
     "shell.execute_reply": "2023-08-19T13:30:36.379622Z"
    },
    "papermill": {
     "duration": 0.031811,
     "end_time": "2023-08-19T13:30:36.384791",
     "exception": false,
     "start_time": "2023-08-19T13:30:36.352980",
     "status": "completed"
    },
    "tags": []
   },
   "outputs": [
    {
     "name": "stdout",
     "output_type": "stream",
     "text": [
      "0\n",
      "1\n",
      "1\n",
      "2\n",
      "3\n"
     ]
    },
    {
     "data": {
      "application/javascript": [
       "parent.postMessage({\"jupyterEvent\": \"custom.exercise_interaction\", \"data\": {\"outcomeType\": 1, \"valueTowardsCompletion\": 0.2, \"interactionType\": 1, \"questionType\": 4, \"questionId\": \"4_AddingBooleans\", \"learnToolsVersion\": \"0.3.4\", \"failureMessage\": \"\", \"exceptionClass\": \"\", \"trace\": \"\"}}, \"*\")"
      ],
      "text/plain": [
       "<IPython.core.display.Javascript object>"
      ]
     },
     "metadata": {},
     "output_type": "display_data"
    },
    {
     "data": {
      "text/markdown": [
       "<span style=\"color:#33cc33\">Correct:</span> \n",
       "\n",
       "When you add booleans, adding `False` is equivalent to adding 0, and adding `True` is equivalent to adding 1."
      ],
      "text/plain": [
       "Correct: \n",
       "\n",
       "When you add booleans, adding `False` is equivalent to adding 0, and adding `True` is equivalent to adding 1."
      ]
     },
     "metadata": {},
     "output_type": "display_data"
    }
   ],
   "source": [
    "# Check your answer (Run this code cell to receive credit!)\n",
    "print(False + False)\n",
    "print(True + False)\n",
    "print(False + True)\n",
    "print(True + True)\n",
    "print(False + True + True + True)\n",
    "q4.check()"
   ]
  },
  {
   "cell_type": "markdown",
   "id": "82e8c093",
   "metadata": {
    "papermill": {
     "duration": 0.011043,
     "end_time": "2023-08-19T13:30:36.408560",
     "exception": false,
     "start_time": "2023-08-19T13:30:36.397517",
     "status": "completed"
    },
    "tags": []
   },
   "source": [
    "print(False + False)\n",
    "print(True + False)\n",
    "print(False + True)\n",
    "print(True + True)\n",
    "print(False + True + True + True)# 🌶️ Question 5\n",
    "\n",
    "You own an online shop where you sell rings with custom engravings.  You offer both gold plated and solid gold rings.\n",
    "- Gold plated rings have a base cost of \\\\$50, and you charge \\\\$7 per engraved unit.  \n",
    "- Solid gold rings have a base cost of \\\\$100, and you charge \\\\$10 per engraved unit.\n",
    "- Spaces and punctuation are counted as engraved units.\n",
    "\n",
    "Write a function `cost_of_project()` that takes two arguments:\n",
    "- `engraving` - a Python string with the text of the engraving\n",
    "- `solid_gold` - a Boolean that indicates whether the ring is solid gold\n",
    "\n",
    "It should return the cost of the project.  This question should be fairly challenging, and you may need a hint."
   ]
  },
  {
   "cell_type": "code",
   "execution_count": 11,
   "id": "f68b9737",
   "metadata": {
    "execution": {
     "iopub.execute_input": "2023-08-19T13:30:36.435424Z",
     "iopub.status.busy": "2023-08-19T13:30:36.434151Z",
     "iopub.status.idle": "2023-08-19T13:30:36.444453Z",
     "shell.execute_reply": "2023-08-19T13:30:36.443521Z"
    },
    "papermill": {
     "duration": 0.026471,
     "end_time": "2023-08-19T13:30:36.446638",
     "exception": false,
     "start_time": "2023-08-19T13:30:36.420167",
     "status": "completed"
    },
    "tags": []
   },
   "outputs": [
    {
     "data": {
      "application/javascript": [
       "parent.postMessage({\"jupyterEvent\": \"custom.exercise_interaction\", \"data\": {\"outcomeType\": 1, \"valueTowardsCompletion\": 0.2, \"interactionType\": 1, \"questionType\": 2, \"questionId\": \"5_CustomEngravings\", \"learnToolsVersion\": \"0.3.4\", \"failureMessage\": \"\", \"exceptionClass\": \"\", \"trace\": \"\"}}, \"*\")"
      ],
      "text/plain": [
       "<IPython.core.display.Javascript object>"
      ]
     },
     "metadata": {},
     "output_type": "display_data"
    },
    {
     "data": {
      "text/markdown": [
       "<span style=\"color:#33cc33\">Correct</span>"
      ],
      "text/plain": [
       "Correct"
      ]
     },
     "metadata": {},
     "output_type": "display_data"
    }
   ],
   "source": [
    "def cost_of_project(engraving, solid_gold):\n",
    "    if solid_gold ==1:\n",
    "        cost = 100 + len(engraving)*10\n",
    "    else:\n",
    "        cost = 50 + len(engraving)*7\n",
    "        \n",
    "    return cost\n",
    "\n",
    "# Check your answer\n",
    "q5.check()"
   ]
  },
  {
   "cell_type": "code",
   "execution_count": 12,
   "id": "b9a87a0a",
   "metadata": {
    "execution": {
     "iopub.execute_input": "2023-08-19T13:30:36.473616Z",
     "iopub.status.busy": "2023-08-19T13:30:36.473220Z",
     "iopub.status.idle": "2023-08-19T13:30:36.482176Z",
     "shell.execute_reply": "2023-08-19T13:30:36.481078Z"
    },
    "papermill": {
     "duration": 0.02591,
     "end_time": "2023-08-19T13:30:36.485045",
     "exception": false,
     "start_time": "2023-08-19T13:30:36.459135",
     "status": "completed"
    },
    "tags": []
   },
   "outputs": [
    {
     "data": {
      "application/javascript": [
       "parent.postMessage({\"jupyterEvent\": \"custom.exercise_interaction\", \"data\": {\"interactionType\": 2, \"questionType\": 2, \"questionId\": \"5_CustomEngravings\", \"learnToolsVersion\": \"0.3.4\", \"valueTowardsCompletion\": 0.0, \"failureMessage\": \"\", \"exceptionClass\": \"\", \"trace\": \"\", \"outcomeType\": 4}}, \"*\")"
      ],
      "text/plain": [
       "<IPython.core.display.Javascript object>"
      ]
     },
     "metadata": {},
     "output_type": "display_data"
    },
    {
     "data": {
      "text/markdown": [
       "<span style=\"color:#3366cc\">Hint:</span> There are two options - either the project uses solid gold or does not.  With this in mind, you can structure your solution like this: `cost = solid_gold * ____ + (not solid_gold) * ____`.  You need to figure out how to fill in the blanks. Also, remember that:\n",
       "- If `solid_gold = True`, then `(not solid_gold) = False`, and if `solid_gold = False`, then `(not solid_gold) = True`.\n",
       "- Multiplying an integer by `True` is equivalent to multiplying it by 1, and multiplying an integer by `False` is equivalent to multiplying it by 0."
      ],
      "text/plain": [
       "Hint: There are two options - either the project uses solid gold or does not.  With this in mind, you can structure your solution like this: `cost = solid_gold * ____ + (not solid_gold) * ____`.  You need to figure out how to fill in the blanks. Also, remember that:\n",
       "- If `solid_gold = True`, then `(not solid_gold) = False`, and if `solid_gold = False`, then `(not solid_gold) = True`.\n",
       "- Multiplying an integer by `True` is equivalent to multiplying it by 1, and multiplying an integer by `False` is equivalent to multiplying it by 0."
      ]
     },
     "metadata": {},
     "output_type": "display_data"
    }
   ],
   "source": [
    "# Uncomment to see a hint\n",
    "q5.hint()\n",
    "\n",
    "# Uncomment to view the solution\n",
    "#q5.solution()"
   ]
  },
  {
   "cell_type": "markdown",
   "id": "18b3d3de",
   "metadata": {
    "papermill": {
     "duration": 0.013068,
     "end_time": "2023-08-19T13:30:36.510573",
     "exception": false,
     "start_time": "2023-08-19T13:30:36.497505",
     "status": "completed"
    },
    "tags": []
   },
   "source": [
    "Run the next code cell to calculate the cost of engraving `Charlie+Denver` on a solid gold ring."
   ]
  },
  {
   "cell_type": "code",
   "execution_count": 13,
   "id": "17a23fc0",
   "metadata": {
    "execution": {
     "iopub.execute_input": "2023-08-19T13:30:36.539804Z",
     "iopub.status.busy": "2023-08-19T13:30:36.539379Z",
     "iopub.status.idle": "2023-08-19T13:30:36.545086Z",
     "shell.execute_reply": "2023-08-19T13:30:36.543581Z"
    },
    "papermill": {
     "duration": 0.025995,
     "end_time": "2023-08-19T13:30:36.549561",
     "exception": false,
     "start_time": "2023-08-19T13:30:36.523566",
     "status": "completed"
    },
    "tags": []
   },
   "outputs": [
    {
     "name": "stdout",
     "output_type": "stream",
     "text": [
      "240\n"
     ]
    }
   ],
   "source": [
    "project_one = cost_of_project(\"Charlie+Denver\", True)\n",
    "print(project_one)"
   ]
  },
  {
   "cell_type": "markdown",
   "id": "61f21b2f",
   "metadata": {
    "papermill": {
     "duration": 0.012445,
     "end_time": "2023-08-19T13:30:36.574350",
     "exception": false,
     "start_time": "2023-08-19T13:30:36.561905",
     "status": "completed"
    },
    "tags": []
   },
   "source": [
    "Use the next code cell to calculate the cost of engraving `08/10/2000` on a gold plated ring."
   ]
  },
  {
   "cell_type": "code",
   "execution_count": 14,
   "id": "f8b90201",
   "metadata": {
    "execution": {
     "iopub.execute_input": "2023-08-19T13:30:36.603439Z",
     "iopub.status.busy": "2023-08-19T13:30:36.602130Z",
     "iopub.status.idle": "2023-08-19T13:30:36.609535Z",
     "shell.execute_reply": "2023-08-19T13:30:36.608188Z"
    },
    "papermill": {
     "duration": 0.025247,
     "end_time": "2023-08-19T13:30:36.612396",
     "exception": false,
     "start_time": "2023-08-19T13:30:36.587149",
     "status": "completed"
    },
    "tags": []
   },
   "outputs": [
    {
     "name": "stdout",
     "output_type": "stream",
     "text": [
      "120\n"
     ]
    }
   ],
   "source": [
    "project_two = cost_of_project(\"08/10/2000\", False)\n",
    "print(project_two)"
   ]
  },
  {
   "cell_type": "markdown",
   "id": "3ba10220",
   "metadata": {
    "papermill": {
     "duration": 0.012584,
     "end_time": "2023-08-19T13:30:36.638236",
     "exception": false,
     "start_time": "2023-08-19T13:30:36.625652",
     "status": "completed"
    },
    "tags": []
   },
   "source": [
    "# Keep going\n",
    "\n",
    "Continue to the next lesson to **[learn about conditions and conditional statements](https://www.kaggle.com/alexisbcook/conditions-and-conditional-statements)**."
   ]
  },
  {
   "cell_type": "markdown",
   "id": "164e6c4c",
   "metadata": {
    "papermill": {
     "duration": 0.013806,
     "end_time": "2023-08-19T13:30:36.665518",
     "exception": false,
     "start_time": "2023-08-19T13:30:36.651712",
     "status": "completed"
    },
    "tags": []
   },
   "source": [
    "---\n",
    "\n",
    "\n",
    "\n",
    "\n",
    "*Have questions or comments? Visit the [course discussion forum](https://www.kaggle.com/learn/intro-to-programming/discussion) to chat with other learners.*"
   ]
  }
 ],
 "metadata": {
  "kernelspec": {
   "display_name": "Python 3",
   "language": "python",
   "name": "python3"
  },
  "language_info": {
   "codemirror_mode": {
    "name": "ipython",
    "version": 3
   },
   "file_extension": ".py",
   "mimetype": "text/x-python",
   "name": "python",
   "nbconvert_exporter": "python",
   "pygments_lexer": "ipython3",
   "version": "3.10.12"
  },
  "papermill": {
   "default_parameters": {},
   "duration": 17.028716,
   "end_time": "2023-08-19T13:30:38.006183",
   "environment_variables": {},
   "exception": null,
   "input_path": "__notebook__.ipynb",
   "output_path": "__notebook__.ipynb",
   "parameters": {},
   "start_time": "2023-08-19T13:30:20.977467",
   "version": "2.4.0"
  }
 },
 "nbformat": 4,
 "nbformat_minor": 5
}
