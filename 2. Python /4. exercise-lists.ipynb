{
 "cells": [
  {
   "cell_type": "markdown",
   "id": "faf361e5",
   "metadata": {
    "papermill": {
     "duration": 0.006195,
     "end_time": "2023-09-01T13:54:05.321776",
     "exception": false,
     "start_time": "2023-09-01T13:54:05.315581",
     "status": "completed"
    },
    "tags": []
   },
   "source": [
    "**This notebook is an exercise in the [Python](https://www.kaggle.com/learn/python) course.  You can reference the tutorial at [this link](https://www.kaggle.com/colinmorris/lists).**\n",
    "\n",
    "---\n"
   ]
  },
  {
   "cell_type": "markdown",
   "id": "b0c34e2f",
   "metadata": {
    "papermill": {
     "duration": 0.004904,
     "end_time": "2023-09-01T13:54:05.331964",
     "exception": false,
     "start_time": "2023-09-01T13:54:05.327060",
     "status": "completed"
    },
    "tags": []
   },
   "source": [
    "Things get more interesting with lists. You'll apply your new knowledge to solve the questions below. Remember to run the following cell first."
   ]
  },
  {
   "cell_type": "code",
   "execution_count": 1,
   "id": "cb222582",
   "metadata": {
    "execution": {
     "iopub.execute_input": "2023-09-01T13:54:05.343933Z",
     "iopub.status.busy": "2023-09-01T13:54:05.343555Z",
     "iopub.status.idle": "2023-09-01T13:54:05.671464Z",
     "shell.execute_reply": "2023-09-01T13:54:05.670417Z"
    },
    "papermill": {
     "duration": 0.336717,
     "end_time": "2023-09-01T13:54:05.673833",
     "exception": false,
     "start_time": "2023-09-01T13:54:05.337116",
     "status": "completed"
    },
    "tags": []
   },
   "outputs": [
    {
     "name": "stdout",
     "output_type": "stream",
     "text": [
      "Setup complete.\n"
     ]
    }
   ],
   "source": [
    "from learntools.core import binder; binder.bind(globals())\n",
    "from learntools.python.ex4 import *\n",
    "print('Setup complete.')"
   ]
  },
  {
   "cell_type": "markdown",
   "id": "b4c1466b",
   "metadata": {
    "papermill": {
     "duration": 0.005721,
     "end_time": "2023-09-01T13:54:05.685925",
     "exception": false,
     "start_time": "2023-09-01T13:54:05.680204",
     "status": "completed"
    },
    "tags": []
   },
   "source": [
    "# 1.\n",
    "\n",
    "Complete the function below according to its docstring."
   ]
  },
  {
   "cell_type": "code",
   "execution_count": 2,
   "id": "1ddd81fc",
   "metadata": {
    "execution": {
     "iopub.execute_input": "2023-09-01T13:54:05.699149Z",
     "iopub.status.busy": "2023-09-01T13:54:05.697958Z",
     "iopub.status.idle": "2023-09-01T13:54:05.706157Z",
     "shell.execute_reply": "2023-09-01T13:54:05.705564Z"
    },
    "papermill": {
     "duration": 0.016501,
     "end_time": "2023-09-01T13:54:05.707826",
     "exception": false,
     "start_time": "2023-09-01T13:54:05.691325",
     "status": "completed"
    },
    "tags": []
   },
   "outputs": [
    {
     "data": {
      "application/javascript": [
       "parent.postMessage({\"jupyterEvent\": \"custom.exercise_interaction\", \"data\": {\"outcomeType\": 1, \"valueTowardsCompletion\": 0.2, \"interactionType\": 1, \"questionType\": 2, \"questionId\": \"1_SelectSecondItem\", \"learnToolsVersion\": \"0.3.4\", \"failureMessage\": \"\", \"exceptionClass\": \"\", \"trace\": \"\"}}, \"*\")"
      ],
      "text/plain": [
       "<IPython.core.display.Javascript object>"
      ]
     },
     "metadata": {},
     "output_type": "display_data"
    },
    {
     "data": {
      "text/markdown": [
       "<span style=\"color:#33cc33\">Correct</span>"
      ],
      "text/plain": [
       "Correct"
      ]
     },
     "metadata": {},
     "output_type": "display_data"
    }
   ],
   "source": [
    "def select_second(L):\n",
    "    \"\"\"Return the second element of the given list. If the list has no second\n",
    "    element, return None.\n",
    "    \"\"\"\n",
    "    pass\n",
    "    if len(L)<2:\n",
    "        return None\n",
    "    return L[1]\n",
    "# Check your answer\n",
    "q1.check()"
   ]
  },
  {
   "cell_type": "code",
   "execution_count": 3,
   "id": "7b689b72",
   "metadata": {
    "execution": {
     "iopub.execute_input": "2023-09-01T13:54:05.721271Z",
     "iopub.status.busy": "2023-09-01T13:54:05.720322Z",
     "iopub.status.idle": "2023-09-01T13:54:05.725279Z",
     "shell.execute_reply": "2023-09-01T13:54:05.723961Z"
    },
    "papermill": {
     "duration": 0.013506,
     "end_time": "2023-09-01T13:54:05.727249",
     "exception": false,
     "start_time": "2023-09-01T13:54:05.713743",
     "status": "completed"
    },
    "tags": []
   },
   "outputs": [],
   "source": [
    "#q1.hint()\n",
    "#q1.solution()"
   ]
  },
  {
   "cell_type": "markdown",
   "id": "fbf829d9",
   "metadata": {
    "papermill": {
     "duration": 0.005318,
     "end_time": "2023-09-01T13:54:05.738239",
     "exception": false,
     "start_time": "2023-09-01T13:54:05.732921",
     "status": "completed"
    },
    "tags": []
   },
   "source": [
    "# 2.\n",
    "\n",
    "You are analyzing sports teams.  Members of each team are stored in a list. The Coach is the first name in the list, the captain is the second name in the list, and other players are listed after that. \n",
    "These lists are stored in another list, which starts with the best team and proceeds through the list to the worst team last.  Complete the function below to select the **captain** of the worst team."
   ]
  },
  {
   "cell_type": "code",
   "execution_count": 4,
   "id": "291d266c",
   "metadata": {
    "execution": {
     "iopub.execute_input": "2023-09-01T13:54:05.750958Z",
     "iopub.status.busy": "2023-09-01T13:54:05.750570Z",
     "iopub.status.idle": "2023-09-01T13:54:05.758029Z",
     "shell.execute_reply": "2023-09-01T13:54:05.757142Z"
    },
    "papermill": {
     "duration": 0.016195,
     "end_time": "2023-09-01T13:54:05.759796",
     "exception": false,
     "start_time": "2023-09-01T13:54:05.743601",
     "status": "completed"
    },
    "tags": []
   },
   "outputs": [
    {
     "data": {
      "application/javascript": [
       "parent.postMessage({\"jupyterEvent\": \"custom.exercise_interaction\", \"data\": {\"outcomeType\": 1, \"valueTowardsCompletion\": 0.2, \"interactionType\": 1, \"questionType\": 2, \"questionId\": \"2_LosingTeamCaptain\", \"learnToolsVersion\": \"0.3.4\", \"failureMessage\": \"\", \"exceptionClass\": \"\", \"trace\": \"\"}}, \"*\")"
      ],
      "text/plain": [
       "<IPython.core.display.Javascript object>"
      ]
     },
     "metadata": {},
     "output_type": "display_data"
    },
    {
     "data": {
      "text/markdown": [
       "<span style=\"color:#33cc33\">Correct</span>"
      ],
      "text/plain": [
       "Correct"
      ]
     },
     "metadata": {},
     "output_type": "display_data"
    }
   ],
   "source": [
    "def losing_team_captain(teams):\n",
    "    \"\"\"Given a list of teams, where each team is a list of names, return the 2nd player (captain)\n",
    "    from the last listed team\n",
    "    \"\"\"\n",
    "    pass\n",
    "    return teams[-1][1]\n",
    "\n",
    "# Check your answer\n",
    "q2.check()"
   ]
  },
  {
   "cell_type": "code",
   "execution_count": 5,
   "id": "5e35dabf",
   "metadata": {
    "collapsed": true,
    "execution": {
     "iopub.execute_input": "2023-09-01T13:54:05.772924Z",
     "iopub.status.busy": "2023-09-01T13:54:05.772549Z",
     "iopub.status.idle": "2023-09-01T13:54:05.776273Z",
     "shell.execute_reply": "2023-09-01T13:54:05.775421Z"
    },
    "jupyter": {
     "outputs_hidden": true
    },
    "papermill": {
     "duration": 0.012913,
     "end_time": "2023-09-01T13:54:05.778517",
     "exception": false,
     "start_time": "2023-09-01T13:54:05.765604",
     "status": "completed"
    },
    "tags": []
   },
   "outputs": [],
   "source": [
    "#q2.hint()\n",
    "#q2.solution()"
   ]
  },
  {
   "cell_type": "markdown",
   "id": "0cc6c796",
   "metadata": {
    "papermill": {
     "duration": 0.005671,
     "end_time": "2023-09-01T13:54:05.790477",
     "exception": false,
     "start_time": "2023-09-01T13:54:05.784806",
     "status": "completed"
    },
    "tags": []
   },
   "source": [
    "# 3.\n",
    "\n",
    "The next iteration of Mario Kart will feature an extra-infuriating new item, the *Purple Shell*. When used, it warps the last place racer into first place and the first place racer into last place. Complete the function below to implement the Purple Shell's effect."
   ]
  },
  {
   "cell_type": "code",
   "execution_count": 6,
   "id": "f4016131",
   "metadata": {
    "execution": {
     "iopub.execute_input": "2023-09-01T13:54:05.803822Z",
     "iopub.status.busy": "2023-09-01T13:54:05.803436Z",
     "iopub.status.idle": "2023-09-01T13:54:05.811103Z",
     "shell.execute_reply": "2023-09-01T13:54:05.810206Z"
    },
    "papermill": {
     "duration": 0.016624,
     "end_time": "2023-09-01T13:54:05.812773",
     "exception": false,
     "start_time": "2023-09-01T13:54:05.796149",
     "status": "completed"
    },
    "tags": []
   },
   "outputs": [
    {
     "data": {
      "application/javascript": [
       "parent.postMessage({\"jupyterEvent\": \"custom.exercise_interaction\", \"data\": {\"outcomeType\": 1, \"valueTowardsCompletion\": 0.2, \"interactionType\": 1, \"questionType\": 2, \"questionId\": \"3_PurpleShell\", \"learnToolsVersion\": \"0.3.4\", \"failureMessage\": \"\", \"exceptionClass\": \"\", \"trace\": \"\"}}, \"*\")"
      ],
      "text/plain": [
       "<IPython.core.display.Javascript object>"
      ]
     },
     "metadata": {},
     "output_type": "display_data"
    },
    {
     "data": {
      "text/markdown": [
       "<span style=\"color:#33cc33\">Correct</span>"
      ],
      "text/plain": [
       "Correct"
      ]
     },
     "metadata": {},
     "output_type": "display_data"
    }
   ],
   "source": [
    "def purple_shell(racers):\n",
    "    \"\"\"Given a list of racers, set the first place racer (at the front of the list) to last\n",
    "    place and vice versa.\n",
    "    \n",
    "    >>> r = [\"Mario\", \"Bowser\", \"Luigi\"]\n",
    "    >>> purple_shell(r)\n",
    "    >>> r\n",
    "    [\"Luigi\", \"Bowser\", \"Mario\"]\n",
    "    \"\"\"\n",
    "    pass\n",
    "\n",
    "    new_order = racers[0]\n",
    "    racers[0] = racers[-1]\n",
    "    racers[-1] = new_order\n",
    "\n",
    "# Check your answer\n",
    "q3.check()"
   ]
  },
  {
   "cell_type": "code",
   "execution_count": 7,
   "id": "04c54fdf",
   "metadata": {
    "execution": {
     "iopub.execute_input": "2023-09-01T13:54:05.826901Z",
     "iopub.status.busy": "2023-09-01T13:54:05.826572Z",
     "iopub.status.idle": "2023-09-01T13:54:05.830792Z",
     "shell.execute_reply": "2023-09-01T13:54:05.829610Z"
    },
    "papermill": {
     "duration": 0.01399,
     "end_time": "2023-09-01T13:54:05.833236",
     "exception": false,
     "start_time": "2023-09-01T13:54:05.819246",
     "status": "completed"
    },
    "tags": []
   },
   "outputs": [],
   "source": [
    "#q3.hint()\n",
    "#q3.solution()"
   ]
  },
  {
   "cell_type": "markdown",
   "id": "d1d67181",
   "metadata": {
    "papermill": {
     "duration": 0.005901,
     "end_time": "2023-09-01T13:54:05.845657",
     "exception": false,
     "start_time": "2023-09-01T13:54:05.839756",
     "status": "completed"
    },
    "tags": []
   },
   "source": [
    "# 4.\n",
    "\n",
    "What are the lengths of the following lists? Fill in the variable `lengths` with your predictions. (Try to make a prediction for each list *without* just calling `len()` on it.)"
   ]
  },
  {
   "cell_type": "code",
   "execution_count": 8,
   "id": "aede20f6",
   "metadata": {
    "execution": {
     "iopub.execute_input": "2023-09-01T13:54:05.859555Z",
     "iopub.status.busy": "2023-09-01T13:54:05.859199Z",
     "iopub.status.idle": "2023-09-01T13:54:05.866719Z",
     "shell.execute_reply": "2023-09-01T13:54:05.865992Z"
    },
    "papermill": {
     "duration": 0.017015,
     "end_time": "2023-09-01T13:54:05.868676",
     "exception": false,
     "start_time": "2023-09-01T13:54:05.851661",
     "status": "completed"
    },
    "tags": []
   },
   "outputs": [
    {
     "data": {
      "application/javascript": [
       "parent.postMessage({\"jupyterEvent\": \"custom.exercise_interaction\", \"data\": {\"outcomeType\": 1, \"valueTowardsCompletion\": 0.2, \"interactionType\": 1, \"questionType\": 1, \"questionId\": \"4_UnderstandLen\", \"learnToolsVersion\": \"0.3.4\", \"failureMessage\": \"\", \"exceptionClass\": \"\", \"trace\": \"\"}}, \"*\")"
      ],
      "text/plain": [
       "<IPython.core.display.Javascript object>"
      ]
     },
     "metadata": {},
     "output_type": "display_data"
    },
    {
     "data": {
      "text/markdown": [
       "<span style=\"color:#33cc33\">Correct:</span> \n",
       "\n",
       "\n",
       "- a: There are three items in this list. Nothing tricky yet.\n",
       "- b: The list `[2, 3]` counts as a single item. It has one item before it. So we have 2 items in the list\n",
       "- c: The empty list has 0 items\n",
       "- d: The expression is the same as the list `[2, 3]`, which has length 2."
      ],
      "text/plain": [
       "Correct: \n",
       "\n",
       "\n",
       "- a: There are three items in this list. Nothing tricky yet.\n",
       "- b: The list `[2, 3]` counts as a single item. It has one item before it. So we have 2 items in the list\n",
       "- c: The empty list has 0 items\n",
       "- d: The expression is the same as the list `[2, 3]`, which has length 2."
      ]
     },
     "metadata": {},
     "output_type": "display_data"
    }
   ],
   "source": [
    "a = [1, 2, 3]\n",
    "b = [1, [2, 3]]\n",
    "c = []\n",
    "d = [1, 2, 3][1:]\n",
    "\n",
    "# Put your predictions in the list below. Lengths should contain 4 numbers, the\n",
    "# first being the length of a, the second being the length of b and so on.\n",
    "lengths = [3,2,0,2]\n",
    "\n",
    "# Check your answer\n",
    "q4.check()"
   ]
  },
  {
   "cell_type": "code",
   "execution_count": 9,
   "id": "fdae54bf",
   "metadata": {
    "execution": {
     "iopub.execute_input": "2023-09-01T13:54:05.883879Z",
     "iopub.status.busy": "2023-09-01T13:54:05.883534Z",
     "iopub.status.idle": "2023-09-01T13:54:05.887735Z",
     "shell.execute_reply": "2023-09-01T13:54:05.886448Z"
    },
    "papermill": {
     "duration": 0.014212,
     "end_time": "2023-09-01T13:54:05.889606",
     "exception": false,
     "start_time": "2023-09-01T13:54:05.875394",
     "status": "completed"
    },
    "tags": []
   },
   "outputs": [],
   "source": [
    "# line below provides some explanation\n",
    "#q4.solution()"
   ]
  },
  {
   "cell_type": "markdown",
   "id": "e0c007f7",
   "metadata": {
    "papermill": {
     "duration": 0.00594,
     "end_time": "2023-09-01T13:54:05.902015",
     "exception": false,
     "start_time": "2023-09-01T13:54:05.896075",
     "status": "completed"
    },
    "tags": []
   },
   "source": [
    "# 5. <span title=\"A bit spicy\" style=\"color: darkgreen \">🌶️</span>\n",
    "\n",
    "We're using lists to record people who attended our party and what order they arrived in. For example, the following list represents a party with 7 guests, in which Adela showed up first and Ford was the last to arrive:\n",
    "\n",
    "    party_attendees = ['Adela', 'Fleda', 'Owen', 'May', 'Mona', 'Gilbert', 'Ford']\n",
    "\n",
    "A guest is considered 'fashionably late' if they arrived after at least half of the party's guests. However, they must not be the very last guest (that's taking it too far). In the above example, Mona and Gilbert are the only guests who were fashionably late.\n",
    "\n",
    "Complete the function below which takes a list of party attendees as well as a person, and tells us whether that person is fashionably late."
   ]
  },
  {
   "cell_type": "code",
   "execution_count": 10,
   "id": "3fbf302f",
   "metadata": {
    "execution": {
     "iopub.execute_input": "2023-09-01T13:54:05.916154Z",
     "iopub.status.busy": "2023-09-01T13:54:05.915828Z",
     "iopub.status.idle": "2023-09-01T13:54:05.923807Z",
     "shell.execute_reply": "2023-09-01T13:54:05.922907Z"
    },
    "papermill": {
     "duration": 0.017378,
     "end_time": "2023-09-01T13:54:05.925650",
     "exception": false,
     "start_time": "2023-09-01T13:54:05.908272",
     "status": "completed"
    },
    "tags": []
   },
   "outputs": [
    {
     "data": {
      "application/javascript": [
       "parent.postMessage({\"jupyterEvent\": \"custom.exercise_interaction\", \"data\": {\"outcomeType\": 1, \"valueTowardsCompletion\": 0.2, \"interactionType\": 1, \"questionType\": 2, \"questionId\": \"5_FashionablyLate\", \"learnToolsVersion\": \"0.3.4\", \"failureMessage\": \"\", \"exceptionClass\": \"\", \"trace\": \"\"}}, \"*\")"
      ],
      "text/plain": [
       "<IPython.core.display.Javascript object>"
      ]
     },
     "metadata": {},
     "output_type": "display_data"
    },
    {
     "data": {
      "text/markdown": [
       "<span style=\"color:#33cc33\">Correct</span>"
      ],
      "text/plain": [
       "Correct"
      ]
     },
     "metadata": {},
     "output_type": "display_data"
    }
   ],
   "source": [
    "def fashionably_late(arrivals, name):\n",
    "    \"\"\"Given an ordered list of arrivals to the party and a name, return whether the guest with that\n",
    "    name was fashionably late.\n",
    "    \"\"\"\n",
    "    pass\n",
    "    order = arrivals.index(name)\n",
    "    return order >= len(arrivals) / 2 and order != len(arrivals) - 1\n",
    "\n",
    "# Check your answer\n",
    "q5.check()"
   ]
  },
  {
   "cell_type": "code",
   "execution_count": 11,
   "id": "4e3fa968",
   "metadata": {
    "execution": {
     "iopub.execute_input": "2023-09-01T13:54:05.940573Z",
     "iopub.status.busy": "2023-09-01T13:54:05.940210Z",
     "iopub.status.idle": "2023-09-01T13:54:05.944331Z",
     "shell.execute_reply": "2023-09-01T13:54:05.943108Z"
    },
    "papermill": {
     "duration": 0.013892,
     "end_time": "2023-09-01T13:54:05.946123",
     "exception": false,
     "start_time": "2023-09-01T13:54:05.932231",
     "status": "completed"
    },
    "tags": []
   },
   "outputs": [],
   "source": [
    "#q5.hint()\n",
    "#q5.solution()"
   ]
  },
  {
   "cell_type": "markdown",
   "id": "d7f91e9c",
   "metadata": {
    "papermill": {
     "duration": 0.006141,
     "end_time": "2023-09-01T13:54:05.959177",
     "exception": false,
     "start_time": "2023-09-01T13:54:05.953036",
     "status": "completed"
    },
    "tags": []
   },
   "source": [
    "# Keep Going\n",
    "\n",
    "That's it for lists and tuples! Now you have the baseline knowledge to **[learn about loops](https://www.kaggle.com/colinmorris/loops-and-list-comprehensions)**, which is where lists and tuples get really interesting. "
   ]
  },
  {
   "cell_type": "markdown",
   "id": "b8a4c8c2",
   "metadata": {
    "papermill": {
     "duration": 0.006082,
     "end_time": "2023-09-01T13:54:05.971668",
     "exception": false,
     "start_time": "2023-09-01T13:54:05.965586",
     "status": "completed"
    },
    "tags": []
   },
   "source": [
    "---\n",
    "\n",
    "\n",
    "\n",
    "\n",
    "*Have questions or comments? Visit the [course discussion forum](https://www.kaggle.com/learn/python/discussion) to chat with other learners.*"
   ]
  }
 ],
 "kernelspec": {
  "display_name": "Python 3",
  "language": "python",
  "name": "python3"
 },
 "language_info": {
  "codemirror_mode": {
   "name": "ipython",
   "version": 3
  },
  "file_extension": ".py",
  "mimetype": "text/x-python",
  "name": "python",
  "nbconvert_exporter": "python",
  "pygments_lexer": "ipython3",
  "version": "3.6.4"
 },
 "metadata": {
  "kernelspec": {
   "display_name": "Python 3",
   "language": "python",
   "name": "python3"
  },
  "language_info": {
   "codemirror_mode": {
    "name": "ipython",
    "version": 3
   },
   "file_extension": ".py",
   "mimetype": "text/x-python",
   "name": "python",
   "nbconvert_exporter": "python",
   "pygments_lexer": "ipython3",
   "version": "3.10.12"
  },
  "learntools_metadata": {
   "lesson_index": 3,
   "type": "exercise"
  },
  "papermill": {
   "default_parameters": {},
   "duration": 3.907576,
   "end_time": "2023-09-01T13:54:06.400261",
   "environment_variables": {},
   "exception": null,
   "input_path": "__notebook__.ipynb",
   "output_path": "__notebook__.ipynb",
   "parameters": {},
   "start_time": "2023-09-01T13:54:02.492685",
   "version": "2.4.0"
  }
 },
 "nbformat": 4,
 "nbformat_minor": 5
}
