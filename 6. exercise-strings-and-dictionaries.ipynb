{
 "cells": [
  {
   "cell_type": "markdown",
   "id": "2e6e2a96",
   "metadata": {
    "papermill": {
     "duration": 0.009949,
     "end_time": "2023-09-01T14:56:50.803226",
     "exception": false,
     "start_time": "2023-09-01T14:56:50.793277",
     "status": "completed"
    },
    "tags": []
   },
   "source": [
    "**This notebook is an exercise in the [Python](https://www.kaggle.com/learn/python) course.  You can reference the tutorial at [this link](https://www.kaggle.com/colinmorris/strings-and-dictionaries).**\n",
    "\n",
    "---\n"
   ]
  },
  {
   "cell_type": "markdown",
   "id": "9bf001e1",
   "metadata": {
    "papermill": {
     "duration": 0.009007,
     "end_time": "2023-09-01T14:56:50.821730",
     "exception": false,
     "start_time": "2023-09-01T14:56:50.812723",
     "status": "completed"
    },
    "tags": []
   },
   "source": [
    "You are almost done with the course. Nice job!\n",
    "\n",
    "We have a couple more interesting problems for you before you go. \n",
    "\n",
    "As always, run the setup code below before working on the questions."
   ]
  },
  {
   "cell_type": "code",
   "execution_count": 1,
   "id": "3de2c7f3",
   "metadata": {
    "execution": {
     "iopub.execute_input": "2023-09-01T14:56:50.842945Z",
     "iopub.status.busy": "2023-09-01T14:56:50.842151Z",
     "iopub.status.idle": "2023-09-01T14:56:51.731829Z",
     "shell.execute_reply": "2023-09-01T14:56:51.730623Z"
    },
    "papermill": {
     "duration": 0.903775,
     "end_time": "2023-09-01T14:56:51.735198",
     "exception": false,
     "start_time": "2023-09-01T14:56:50.831423",
     "status": "completed"
    },
    "tags": []
   },
   "outputs": [
    {
     "name": "stdout",
     "output_type": "stream",
     "text": [
      "Setup complete.\n"
     ]
    }
   ],
   "source": [
    "from learntools.core import binder; binder.bind(globals())\n",
    "from learntools.python.ex6 import *\n",
    "print('Setup complete.')"
   ]
  },
  {
   "cell_type": "markdown",
   "id": "5f96df84",
   "metadata": {
    "papermill": {
     "duration": 0.009032,
     "end_time": "2023-09-01T14:56:51.754086",
     "exception": false,
     "start_time": "2023-09-01T14:56:51.745054",
     "status": "completed"
    },
    "tags": []
   },
   "source": [
    "Let's start with a string lightning round to warm up. What are the lengths of the strings below?\n",
    "\n",
    "For each of the five strings below, predict what `len()` would return when passed that string. Use the variable `length` to record your answer, then run the cell to check whether you were right.  \n",
    "\n",
    "# 0a."
   ]
  },
  {
   "cell_type": "code",
   "execution_count": 2,
   "id": "74ff99f8",
   "metadata": {
    "execution": {
     "iopub.execute_input": "2023-09-01T14:56:51.774724Z",
     "iopub.status.busy": "2023-09-01T14:56:51.774202Z",
     "iopub.status.idle": "2023-09-01T14:56:51.785350Z",
     "shell.execute_reply": "2023-09-01T14:56:51.784248Z"
    },
    "papermill": {
     "duration": 0.024382,
     "end_time": "2023-09-01T14:56:51.787791",
     "exception": false,
     "start_time": "2023-09-01T14:56:51.763409",
     "status": "completed"
    },
    "tags": []
   },
   "outputs": [
    {
     "data": {
      "application/javascript": [
       "parent.postMessage({\"jupyterEvent\": \"custom.exercise_interaction\", \"data\": {\"outcomeType\": 1, \"valueTowardsCompletion\": 0.3333333333333333, \"interactionType\": 1, \"questionType\": 1, \"questionId\": \"0.1_ZA\", \"learnToolsVersion\": \"0.3.4\", \"failureMessage\": \"\", \"exceptionClass\": \"\", \"trace\": \"\"}}, \"*\")"
      ],
      "text/plain": [
       "<IPython.core.display.Javascript object>"
      ]
     },
     "metadata": {},
     "output_type": "display_data"
    },
    {
     "data": {
      "text/markdown": [
       "<span style=\"color:#33cc33\">Correct:</span> \n",
       "\n",
       "The empty string has length zero. Note that the empty string is also the only string that Python considers as False when converting to boolean."
      ],
      "text/plain": [
       "Correct: \n",
       "\n",
       "The empty string has length zero. Note that the empty string is also the only string that Python considers as False when converting to boolean."
      ]
     },
     "metadata": {},
     "output_type": "display_data"
    }
   ],
   "source": [
    "a = \"\"\n",
    "length = len(a)\n",
    "q0.a.check()"
   ]
  },
  {
   "cell_type": "markdown",
   "id": "5723895b",
   "metadata": {
    "papermill": {
     "duration": 0.009179,
     "end_time": "2023-09-01T14:56:51.806495",
     "exception": false,
     "start_time": "2023-09-01T14:56:51.797316",
     "status": "completed"
    },
    "tags": []
   },
   "source": [
    "# 0b."
   ]
  },
  {
   "cell_type": "code",
   "execution_count": 3,
   "id": "69f7315f",
   "metadata": {
    "execution": {
     "iopub.execute_input": "2023-09-01T14:56:51.827487Z",
     "iopub.status.busy": "2023-09-01T14:56:51.827113Z",
     "iopub.status.idle": "2023-09-01T14:56:51.837578Z",
     "shell.execute_reply": "2023-09-01T14:56:51.836404Z"
    },
    "papermill": {
     "duration": 0.023729,
     "end_time": "2023-09-01T14:56:51.839971",
     "exception": false,
     "start_time": "2023-09-01T14:56:51.816242",
     "status": "completed"
    },
    "tags": []
   },
   "outputs": [
    {
     "data": {
      "application/javascript": [
       "parent.postMessage({\"jupyterEvent\": \"custom.exercise_interaction\", \"data\": {\"outcomeType\": 1, \"valueTowardsCompletion\": 0.3333333333333333, \"interactionType\": 1, \"questionType\": 1, \"questionId\": \"0.2_ZB\", \"learnToolsVersion\": \"0.3.4\", \"failureMessage\": \"\", \"exceptionClass\": \"\", \"trace\": \"\"}}, \"*\")"
      ],
      "text/plain": [
       "<IPython.core.display.Javascript object>"
      ]
     },
     "metadata": {},
     "output_type": "display_data"
    },
    {
     "data": {
      "text/markdown": [
       "<span style=\"color:#33cc33\">Correct:</span> \n",
       "\n",
       "Keep in mind Python includes spaces (and punctuation) when counting string length."
      ],
      "text/plain": [
       "Correct: \n",
       "\n",
       "Keep in mind Python includes spaces (and punctuation) when counting string length."
      ]
     },
     "metadata": {},
     "output_type": "display_data"
    }
   ],
   "source": [
    "b = \"it's ok\"\n",
    "length = len(b)\n",
    "q0.b.check()"
   ]
  },
  {
   "cell_type": "markdown",
   "id": "512f1552",
   "metadata": {
    "papermill": {
     "duration": 0.010035,
     "end_time": "2023-09-01T14:56:51.860388",
     "exception": false,
     "start_time": "2023-09-01T14:56:51.850353",
     "status": "completed"
    },
    "tags": []
   },
   "source": [
    "# 0c."
   ]
  },
  {
   "cell_type": "code",
   "execution_count": 4,
   "id": "c6ffb22b",
   "metadata": {
    "execution": {
     "iopub.execute_input": "2023-09-01T14:56:51.882159Z",
     "iopub.status.busy": "2023-09-01T14:56:51.881738Z",
     "iopub.status.idle": "2023-09-01T14:56:51.891418Z",
     "shell.execute_reply": "2023-09-01T14:56:51.890248Z"
    },
    "papermill": {
     "duration": 0.023382,
     "end_time": "2023-09-01T14:56:51.893749",
     "exception": false,
     "start_time": "2023-09-01T14:56:51.870367",
     "status": "completed"
    },
    "tags": []
   },
   "outputs": [
    {
     "data": {
      "application/javascript": [
       "parent.postMessage({\"jupyterEvent\": \"custom.exercise_interaction\", \"data\": {\"outcomeType\": 1, \"valueTowardsCompletion\": 0.3333333333333333, \"interactionType\": 1, \"questionType\": 1, \"questionId\": \"0.3_ZC\", \"learnToolsVersion\": \"0.3.4\", \"failureMessage\": \"\", \"exceptionClass\": \"\", \"trace\": \"\"}}, \"*\")"
      ],
      "text/plain": [
       "<IPython.core.display.Javascript object>"
      ]
     },
     "metadata": {},
     "output_type": "display_data"
    },
    {
     "data": {
      "text/markdown": [
       "<span style=\"color:#33cc33\">Correct:</span> \n",
       "\n",
       "Even though we use different syntax to create it, the string `c` is identical to `b`. In particular, note that the backslash is not part of the string, so it doesn't contribute to its length."
      ],
      "text/plain": [
       "Correct: \n",
       "\n",
       "Even though we use different syntax to create it, the string `c` is identical to `b`. In particular, note that the backslash is not part of the string, so it doesn't contribute to its length."
      ]
     },
     "metadata": {},
     "output_type": "display_data"
    }
   ],
   "source": [
    "c = 'it\\'s ok'\n",
    "length = len(c)\n",
    "q0.c.check()"
   ]
  },
  {
   "cell_type": "markdown",
   "id": "95604310",
   "metadata": {
    "papermill": {
     "duration": 0.010252,
     "end_time": "2023-09-01T14:56:51.914367",
     "exception": false,
     "start_time": "2023-09-01T14:56:51.904115",
     "status": "completed"
    },
    "tags": []
   },
   "source": [
    "# 0d."
   ]
  },
  {
   "cell_type": "code",
   "execution_count": 5,
   "id": "42bb8c92",
   "metadata": {
    "execution": {
     "iopub.execute_input": "2023-09-01T14:56:51.937555Z",
     "iopub.status.busy": "2023-09-01T14:56:51.937164Z",
     "iopub.status.idle": "2023-09-01T14:56:51.947510Z",
     "shell.execute_reply": "2023-09-01T14:56:51.946409Z"
    },
    "papermill": {
     "duration": 0.024939,
     "end_time": "2023-09-01T14:56:51.950047",
     "exception": false,
     "start_time": "2023-09-01T14:56:51.925108",
     "status": "completed"
    },
    "tags": []
   },
   "outputs": [
    {
     "data": {
      "application/javascript": [
       "parent.postMessage({\"jupyterEvent\": \"custom.exercise_interaction\", \"data\": {\"outcomeType\": 1, \"valueTowardsCompletion\": 0.3333333333333333, \"interactionType\": 1, \"questionType\": 1, \"questionId\": \"0.4_ZD\", \"learnToolsVersion\": \"0.3.4\", \"failureMessage\": \"\", \"exceptionClass\": \"\", \"trace\": \"\"}}, \"*\")"
      ],
      "text/plain": [
       "<IPython.core.display.Javascript object>"
      ]
     },
     "metadata": {},
     "output_type": "display_data"
    },
    {
     "data": {
      "text/markdown": [
       "<span style=\"color:#33cc33\">Correct:</span> \n",
       "\n",
       "The fact that this string was created using triple-quote syntax doesn't make any difference in terms of its content or length. This string is exactly the same as `'hey'`."
      ],
      "text/plain": [
       "Correct: \n",
       "\n",
       "The fact that this string was created using triple-quote syntax doesn't make any difference in terms of its content or length. This string is exactly the same as `'hey'`."
      ]
     },
     "metadata": {},
     "output_type": "display_data"
    }
   ],
   "source": [
    "d = \"\"\"hey\"\"\"\n",
    "length = len(d)\n",
    "q0.d.check()"
   ]
  },
  {
   "cell_type": "markdown",
   "id": "12c2139d",
   "metadata": {
    "papermill": {
     "duration": 0.010698,
     "end_time": "2023-09-01T14:56:51.972382",
     "exception": false,
     "start_time": "2023-09-01T14:56:51.961684",
     "status": "completed"
    },
    "tags": []
   },
   "source": [
    "# 0e."
   ]
  },
  {
   "cell_type": "code",
   "execution_count": 6,
   "id": "d07bae49",
   "metadata": {
    "execution": {
     "iopub.execute_input": "2023-09-01T14:56:51.995810Z",
     "iopub.status.busy": "2023-09-01T14:56:51.995398Z",
     "iopub.status.idle": "2023-09-01T14:56:52.004939Z",
     "shell.execute_reply": "2023-09-01T14:56:52.003872Z"
    },
    "papermill": {
     "duration": 0.02427,
     "end_time": "2023-09-01T14:56:52.007250",
     "exception": false,
     "start_time": "2023-09-01T14:56:51.982980",
     "status": "completed"
    },
    "tags": []
   },
   "outputs": [
    {
     "data": {
      "application/javascript": [
       "parent.postMessage({\"jupyterEvent\": \"custom.exercise_interaction\", \"data\": {\"outcomeType\": 1, \"valueTowardsCompletion\": 0.3333333333333333, \"interactionType\": 1, \"questionType\": 1, \"questionId\": \"0.5_ZE\", \"learnToolsVersion\": \"0.3.4\", \"failureMessage\": \"\", \"exceptionClass\": \"\", \"trace\": \"\"}}, \"*\")"
      ],
      "text/plain": [
       "<IPython.core.display.Javascript object>"
      ]
     },
     "metadata": {},
     "output_type": "display_data"
    },
    {
     "data": {
      "text/markdown": [
       "<span style=\"color:#33cc33\">Correct:</span> \n",
       "\n",
       "The newline character is just a single character! (Even though we represent it to Python using a combination of two characters.)"
      ],
      "text/plain": [
       "Correct: \n",
       "\n",
       "The newline character is just a single character! (Even though we represent it to Python using a combination of two characters.)"
      ]
     },
     "metadata": {},
     "output_type": "display_data"
    }
   ],
   "source": [
    "e = '\\n'\n",
    "length = len(e)\n",
    "q0.e.check()"
   ]
  },
  {
   "cell_type": "markdown",
   "id": "f58922ca",
   "metadata": {
    "papermill": {
     "duration": 0.010789,
     "end_time": "2023-09-01T14:56:52.029114",
     "exception": false,
     "start_time": "2023-09-01T14:56:52.018325",
     "status": "completed"
    },
    "tags": []
   },
   "source": [
    "# 1.\n",
    "\n",
    "There is a saying that \"Data scientists spend 80% of their time cleaning data, and 20% of their time complaining about cleaning data.\" Let's see if you can write a function to help clean US zip code data. Given a string, it should return whether or not that string represents a valid zip code. For our purposes, a valid zip code is any string consisting of exactly 5 digits.\n",
    "\n",
    "HINT: `str` has a method that will be useful here. Use `help(str)` to review a list of string methods."
   ]
  },
  {
   "cell_type": "code",
   "execution_count": 7,
   "id": "8b39270c",
   "metadata": {
    "execution": {
     "iopub.execute_input": "2023-09-01T14:56:52.053513Z",
     "iopub.status.busy": "2023-09-01T14:56:52.053100Z",
     "iopub.status.idle": "2023-09-01T14:56:52.063679Z",
     "shell.execute_reply": "2023-09-01T14:56:52.062333Z"
    },
    "papermill": {
     "duration": 0.025603,
     "end_time": "2023-09-01T14:56:52.065842",
     "exception": false,
     "start_time": "2023-09-01T14:56:52.040239",
     "status": "completed"
    },
    "tags": []
   },
   "outputs": [
    {
     "data": {
      "application/javascript": [
       "parent.postMessage({\"jupyterEvent\": \"custom.exercise_interaction\", \"data\": {\"outcomeType\": 1, \"valueTowardsCompletion\": 0.3333333333333333, \"interactionType\": 1, \"questionType\": 2, \"questionId\": \"1_ZipValidator\", \"learnToolsVersion\": \"0.3.4\", \"failureMessage\": \"\", \"exceptionClass\": \"\", \"trace\": \"\"}}, \"*\")"
      ],
      "text/plain": [
       "<IPython.core.display.Javascript object>"
      ]
     },
     "metadata": {},
     "output_type": "display_data"
    },
    {
     "data": {
      "text/markdown": [
       "<span style=\"color:#33cc33\">Correct</span>"
      ],
      "text/plain": [
       "Correct"
      ]
     },
     "metadata": {},
     "output_type": "display_data"
    }
   ],
   "source": [
    "def is_valid_zip(zip_code):\n",
    "    \"\"\"Returns whether the input string is a valid (5 digit) zip code\n",
    "    \"\"\"\n",
    "    pass\n",
    "    return len(zip_code) == 5 and zip_code.isdigit() \n",
    "# Check your answer\n",
    "q1.check()"
   ]
  },
  {
   "cell_type": "code",
   "execution_count": 8,
   "id": "347f24de",
   "metadata": {
    "execution": {
     "iopub.execute_input": "2023-09-01T14:56:52.090695Z",
     "iopub.status.busy": "2023-09-01T14:56:52.090293Z",
     "iopub.status.idle": "2023-09-01T14:56:52.094388Z",
     "shell.execute_reply": "2023-09-01T14:56:52.093351Z"
    },
    "papermill": {
     "duration": 0.019089,
     "end_time": "2023-09-01T14:56:52.096495",
     "exception": false,
     "start_time": "2023-09-01T14:56:52.077406",
     "status": "completed"
    },
    "tags": []
   },
   "outputs": [],
   "source": [
    "#q1.hint()\n",
    "#q1.solution()"
   ]
  },
  {
   "cell_type": "markdown",
   "id": "5e7b647e",
   "metadata": {
    "papermill": {
     "duration": 0.011292,
     "end_time": "2023-09-01T14:56:52.119289",
     "exception": false,
     "start_time": "2023-09-01T14:56:52.107997",
     "status": "completed"
    },
    "tags": []
   },
   "source": [
    "# 2.\n",
    "\n",
    "A researcher has gathered thousands of news articles. But she wants to focus her attention on articles including a specific word. Complete the function below to help her filter her list of articles.\n",
    "\n",
    "Your function should meet the following criteria:\n",
    "\n",
    "- Do not include documents where the keyword string shows up only as a part of a larger word. For example, if she were looking for the keyword “closed”, you would not include the string “enclosed.” \n",
    "- She does not want you to distinguish upper case from lower case letters. So the phrase “Closed the case.” would be included when the keyword is “closed”\n",
    "- Do not let periods or commas affect what is matched. “It is closed.” would be included when the keyword is “closed”. But you can assume there are no other types of punctuation."
   ]
  },
  {
   "cell_type": "code",
   "execution_count": 9,
   "id": "85d05634",
   "metadata": {
    "execution": {
     "iopub.execute_input": "2023-09-01T14:56:52.144224Z",
     "iopub.status.busy": "2023-09-01T14:56:52.143469Z",
     "iopub.status.idle": "2023-09-01T14:56:52.155891Z",
     "shell.execute_reply": "2023-09-01T14:56:52.155041Z"
    },
    "papermill": {
     "duration": 0.02749,
     "end_time": "2023-09-01T14:56:52.158124",
     "exception": false,
     "start_time": "2023-09-01T14:56:52.130634",
     "status": "completed"
    },
    "tags": []
   },
   "outputs": [
    {
     "data": {
      "application/javascript": [
       "parent.postMessage({\"jupyterEvent\": \"custom.exercise_interaction\", \"data\": {\"outcomeType\": 1, \"valueTowardsCompletion\": 0.3333333333333333, \"interactionType\": 1, \"questionType\": 2, \"questionId\": \"2_WordSearch\", \"learnToolsVersion\": \"0.3.4\", \"failureMessage\": \"\", \"exceptionClass\": \"\", \"trace\": \"\"}}, \"*\")"
      ],
      "text/plain": [
       "<IPython.core.display.Javascript object>"
      ]
     },
     "metadata": {},
     "output_type": "display_data"
    },
    {
     "data": {
      "text/markdown": [
       "<span style=\"color:#33cc33\">Correct</span>"
      ],
      "text/plain": [
       "Correct"
      ]
     },
     "metadata": {},
     "output_type": "display_data"
    }
   ],
   "source": [
    "def word_search(doc_list, keyword):\n",
    "    \"\"\"\n",
    "    Takes a list of documents (each document is a string) and a keyword. \n",
    "    Returns list of the index values into the original list for all documents \n",
    "    containing the keyword.\n",
    "\n",
    "    Example:\n",
    "    doc_list = [\"The Learn Python Challenge Casino.\", \"They bought a car\", \"Casinoville\"]\n",
    "    >>> word_search(doc_list, 'casino')\n",
    "    >>> [0]\n",
    "    \"\"\"\n",
    "    pass\n",
    "\n",
    "    indices = [] \n",
    "    for i, doc in enumerate(doc_list):\n",
    "        tokens = doc.split()\n",
    "        normalized = [token.rstrip('.,').lower() for token in tokens]\n",
    "        if keyword.lower() in normalized:\n",
    "            indices.append(i)\n",
    "    return indices\n",
    "\n",
    "# Check your answer\n",
    "q2.check()"
   ]
  },
  {
   "cell_type": "code",
   "execution_count": 10,
   "id": "3582aecb",
   "metadata": {
    "execution": {
     "iopub.execute_input": "2023-09-01T14:56:52.183996Z",
     "iopub.status.busy": "2023-09-01T14:56:52.183225Z",
     "iopub.status.idle": "2023-09-01T14:56:52.188027Z",
     "shell.execute_reply": "2023-09-01T14:56:52.187082Z"
    },
    "papermill": {
     "duration": 0.020065,
     "end_time": "2023-09-01T14:56:52.190203",
     "exception": false,
     "start_time": "2023-09-01T14:56:52.170138",
     "status": "completed"
    },
    "tags": []
   },
   "outputs": [],
   "source": [
    "#q2.hint()\n",
    "#q2.solution()"
   ]
  },
  {
   "cell_type": "markdown",
   "id": "70bbb4be",
   "metadata": {
    "papermill": {
     "duration": 0.011374,
     "end_time": "2023-09-01T14:56:52.213276",
     "exception": false,
     "start_time": "2023-09-01T14:56:52.201902",
     "status": "completed"
    },
    "tags": []
   },
   "source": [
    "# 3.\n",
    "\n",
    "Now the researcher wants to supply multiple keywords to search for. Complete the function below to help her.\n",
    "\n",
    "(You're encouraged to use the `word_search` function you just wrote when implementing this function. Reusing code in this way makes your programs more robust and readable - and it saves typing!)"
   ]
  },
  {
   "cell_type": "code",
   "execution_count": 11,
   "id": "71085df7",
   "metadata": {
    "execution": {
     "iopub.execute_input": "2023-09-01T14:56:52.239609Z",
     "iopub.status.busy": "2023-09-01T14:56:52.238587Z",
     "iopub.status.idle": "2023-09-01T14:56:52.249735Z",
     "shell.execute_reply": "2023-09-01T14:56:52.248607Z"
    },
    "papermill": {
     "duration": 0.026737,
     "end_time": "2023-09-01T14:56:52.251982",
     "exception": false,
     "start_time": "2023-09-01T14:56:52.225245",
     "status": "completed"
    },
    "tags": []
   },
   "outputs": [
    {
     "data": {
      "application/javascript": [
       "parent.postMessage({\"jupyterEvent\": \"custom.exercise_interaction\", \"data\": {\"outcomeType\": 1, \"valueTowardsCompletion\": 0.3333333333333333, \"interactionType\": 1, \"questionType\": 2, \"questionId\": \"3_MultiWordSearch\", \"learnToolsVersion\": \"0.3.4\", \"failureMessage\": \"\", \"exceptionClass\": \"\", \"trace\": \"\"}}, \"*\")"
      ],
      "text/plain": [
       "<IPython.core.display.Javascript object>"
      ]
     },
     "metadata": {},
     "output_type": "display_data"
    },
    {
     "data": {
      "text/markdown": [
       "<span style=\"color:#33cc33\">Correct</span>"
      ],
      "text/plain": [
       "Correct"
      ]
     },
     "metadata": {},
     "output_type": "display_data"
    }
   ],
   "source": [
    "def multi_word_search(doc_list, keywords):\n",
    "    \"\"\"\n",
    "    Takes list of documents (each document is a string) and a list of keywords.  \n",
    "    Returns a dictionary where each key is a keyword, and the value is a list of indices\n",
    "    (from doc_list) of the documents containing that keyword\n",
    "\n",
    "    >>> doc_list = [\"The Learn Python Challenge Casino.\", \"They bought a car and a casino\", \"Casinoville\"]\n",
    "    >>> keywords = ['casino', 'they']\n",
    "    >>> multi_word_search(doc_list, keywords)\n",
    "    {'casino': [0, 1], 'they': [1]}\n",
    "    \"\"\"\n",
    "    pass\n",
    "    keyword_to_indices = {}\n",
    "    for keyword in keywords:\n",
    "        keyword_to_indices[keyword] = word_search(doc_list, keyword)\n",
    "    return keyword_to_indices\n",
    "# Check your answer\n",
    "q3.check()"
   ]
  },
  {
   "cell_type": "code",
   "execution_count": 12,
   "id": "c9476862",
   "metadata": {
    "execution": {
     "iopub.execute_input": "2023-09-01T14:56:52.278214Z",
     "iopub.status.busy": "2023-09-01T14:56:52.277630Z",
     "iopub.status.idle": "2023-09-01T14:56:52.282925Z",
     "shell.execute_reply": "2023-09-01T14:56:52.281817Z"
    },
    "papermill": {
     "duration": 0.021193,
     "end_time": "2023-09-01T14:56:52.285291",
     "exception": false,
     "start_time": "2023-09-01T14:56:52.264098",
     "status": "completed"
    },
    "tags": []
   },
   "outputs": [],
   "source": [
    "#q3.solution()"
   ]
  },
  {
   "cell_type": "markdown",
   "id": "ca2d9d91",
   "metadata": {
    "papermill": {
     "duration": 0.011774,
     "end_time": "2023-09-01T14:56:52.310124",
     "exception": false,
     "start_time": "2023-09-01T14:56:52.298350",
     "status": "completed"
    },
    "tags": []
   },
   "source": [
    "# Keep Going\n",
    "\n",
    "You've learned a lot. But even the best programmers rely heavily on \"libraries\" of code from other programmers. You'll learn about that in **[the last lesson](https://www.kaggle.com/colinmorris/working-with-external-libraries)**.\n"
   ]
  },
  {
   "cell_type": "markdown",
   "id": "6aecd783",
   "metadata": {
    "papermill": {
     "duration": 0.011873,
     "end_time": "2023-09-01T14:56:52.334207",
     "exception": false,
     "start_time": "2023-09-01T14:56:52.322334",
     "status": "completed"
    },
    "tags": []
   },
   "source": [
    "---\n",
    "\n",
    "\n",
    "\n",
    "\n",
    "*Have questions or comments? Visit the [course discussion forum](https://www.kaggle.com/learn/python/discussion) to chat with other learners.*"
   ]
  }
 ],
 "kernelspec": {
  "display_name": "Python 3",
  "language": "python",
  "name": "python3"
 },
 "language_info": {
  "codemirror_mode": {
   "name": "ipython",
   "version": 3
  },
  "file_extension": ".py",
  "mimetype": "text/x-python",
  "name": "python",
  "nbconvert_exporter": "python",
  "pygments_lexer": "ipython3",
  "version": "3.6.4"
 },
 "metadata": {
  "kernelspec": {
   "display_name": "Python 3",
   "language": "python",
   "name": "python3"
  },
  "language_info": {
   "codemirror_mode": {
    "name": "ipython",
    "version": 3
   },
   "file_extension": ".py",
   "mimetype": "text/x-python",
   "name": "python",
   "nbconvert_exporter": "python",
   "pygments_lexer": "ipython3",
   "version": "3.10.12"
  },
  "learntools_metadata": {
   "lesson_index": 5,
   "type": "exercise"
  },
  "papermill": {
   "default_parameters": {},
   "duration": 6.637216,
   "end_time": "2023-09-01T14:56:52.766283",
   "environment_variables": {},
   "exception": null,
   "input_path": "__notebook__.ipynb",
   "output_path": "__notebook__.ipynb",
   "parameters": {},
   "start_time": "2023-09-01T14:56:46.129067",
   "version": "2.4.0"
  }
 },
 "nbformat": 4,
 "nbformat_minor": 5
}
